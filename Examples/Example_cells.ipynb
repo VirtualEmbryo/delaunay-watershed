{
 "cells": [
  {
   "cell_type": "code",
   "execution_count": 2,
   "metadata": {},
   "outputs": [
    {
     "name": "stdout",
     "output_type": "stream",
     "text": [
      "Mode == Torch\n",
      "Kernel size = 5\n",
      "Computing EDT ...\n",
      "EDT computed in  0.6\n",
      "Searching local extremas ...\n",
      "Number of local minimas : 2605\n",
      "Number of local maxes : 104\n",
      "Local minimas computed in  2.1\n",
      "Starting triangulation..\n",
      "Triangulation build in  0.04\n",
      "Graph build in  0.623\n",
      "Watershed done in  0.267\n"
     ]
    }
   ],
   "source": [
    "from dw3d import geometry_reconstruction_3d,DCEL_Data\n",
    "import skimage.io as io \n",
    "\n",
    "def make_idx(n): \n",
    "    return((\"000\"+str(n))[-3:])\n",
    "i = 2 \n",
    "dist = 5\n",
    "\n",
    "image_path = \"../data/Images/1.tif\"\n",
    "image = io.imread(image_path)\n",
    "DW = geometry_reconstruction_3d(image,min_dist = dist, expansion_labels =0,mode='torch',print_info=True)"
   ]
  },
  {
   "cell_type": "code",
   "execution_count": 3,
   "metadata": {},
   "outputs": [
    {
     "name": "stderr",
     "output_type": "stream",
     "text": [
      "/Users/sachaichbiah/opt/anaconda3/lib/python3.8/site-packages/numpy/core/numeric.py:2463: FutureWarning: elementwise comparison failed; returning scalar instead, but in the future will perform elementwise comparison\n",
      "  return bool(asarray(a1 == a2).all())\n",
      "/Users/sachaichbiah/opt/anaconda3/lib/python3.8/site-packages/numpy/core/numeric.py:2463: FutureWarning: elementwise comparison failed; returning scalar instead, but in the future will perform elementwise comparison\n",
      "  return bool(asarray(a1 == a2).all())\n"
     ]
    }
   ],
   "source": [
    "v = DW.plot_in_napari(add_mesh=True)"
   ]
  },
  {
   "cell_type": "code",
   "execution_count": 4,
   "metadata": {},
   "outputs": [],
   "source": [
    "DW.plot_cells_polyscope()"
   ]
  },
  {
   "cell_type": "code",
   "execution_count": 5,
   "metadata": {},
   "outputs": [],
   "source": [
    "DW.export_mesh(\"test.rec\")"
   ]
  },
  {
   "cell_type": "code",
   "execution_count": 6,
   "metadata": {},
   "outputs": [
    {
     "data": {
      "text/plain": [
       "{(0, 1): 0.01645311871343694,\n",
       " (0, 2): 0.01749069107196495,\n",
       " (1, 2): 0.004943190325184146}"
      ]
     },
     "execution_count": 6,
     "metadata": {},
     "output_type": "execute_result"
    }
   ],
   "source": [
    "Mesh=DW.return_dcel()\n",
    "Mesh.compute_curvatures_interfaces()"
   ]
  },
  {
   "cell_type": "code",
   "execution_count": null,
   "metadata": {},
   "outputs": [],
   "source": []
  }
 ],
 "metadata": {
  "kernelspec": {
   "display_name": "Python 3",
   "language": "python",
   "name": "python3"
  },
  "language_info": {
   "codemirror_mode": {
    "name": "ipython",
    "version": 3
   },
   "file_extension": ".py",
   "mimetype": "text/x-python",
   "name": "python",
   "nbconvert_exporter": "python",
   "pygments_lexer": "ipython3",
   "version": "3.8.3"
  }
 },
 "nbformat": 4,
 "nbformat_minor": 4
}
