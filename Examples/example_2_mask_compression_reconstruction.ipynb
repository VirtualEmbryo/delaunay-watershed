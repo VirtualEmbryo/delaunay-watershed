{
 "cells": [
  {
   "cell_type": "markdown",
   "metadata": {},
   "source": [
    "# Delaunay-Watershed for segmentation masks compression\n",
    "\n",
    "In this notebook:\n",
    "- We present how to compress segmentation masks into a multimaterial mesh. Here we apply it on nuclei segmentation.\n",
    "- We show that we can recompute the mask images from the mesh.\n",
    "\n",
    "In this example, the compressed data is 128 times smaller than the original data."
   ]
  },
  {
   "cell_type": "markdown",
   "metadata": {},
   "source": [
    "# 0) Install Delaunay-Watershed"
   ]
  },
  {
   "cell_type": "markdown",
   "metadata": {},
   "source": [
    "Along with tools for this notebook specifically."
   ]
  },
  {
   "cell_type": "code",
   "execution_count": null,
   "metadata": {
    "vscode": {
     "languageId": "powershell"
    }
   },
   "outputs": [],
   "source": [
    "pip install delaunay-watershed-3d csbdeep napari[all]"
   ]
  },
  {
   "cell_type": "markdown",
   "metadata": {},
   "source": [
    "## 1) Download nuclei data from Stardist "
   ]
  },
  {
   "cell_type": "code",
   "execution_count": null,
   "metadata": {},
   "outputs": [],
   "source": [
    "from glob import glob\n",
    "\n",
    "import numpy as np\n",
    "from csbdeep.utils import Path, download_and_extract_zip_file\n",
    "\n",
    "download_and_extract_zip_file(\n",
    "    url       = \"https://github.com/stardist/stardist/releases/download/0.3.0/demo3D.zip\",\n",
    "    targetdir = \"../data\",\n",
    "    verbose   = 1)\n",
    "\n",
    "\n",
    "X = sorted(glob(\"../data/train/images/*.tif\"))\n",
    "Y = sorted(glob(\"../data/train/masks/*.tif\"))\n",
    "assert all(Path(x).name==Path(y).name for x,y in zip(X,Y, strict=False))"
   ]
  },
  {
   "cell_type": "markdown",
   "metadata": {},
   "source": [
    "## 2) Compute multimaterial mesh with Delaunay Watershed"
   ]
  },
  {
   "cell_type": "markdown",
   "metadata": {},
   "source": [
    "A mesh is created via a \"Mesh Reconstruction Algorithm\". Although many variations can be created, we provide a default Mesh Reconstruction Algorithm:"
   ]
  },
  {
   "cell_type": "code",
   "execution_count": null,
   "metadata": {},
   "outputs": [],
   "source": [
    "from dw3d import get_default_mesh_reconstruction_algorithm\n",
    "\n",
    "dist = 3\n",
    "mesh_reconstruction_algorithm = get_default_mesh_reconstruction_algorithm(min_distance=dist, print_info=True)"
   ]
  },
  {
   "cell_type": "markdown",
   "metadata": {},
   "source": [
    "But instead of a mesh, you can choose to obtain a compressed version of the segmentation masks:"
   ]
  },
  {
   "cell_type": "code",
   "execution_count": null,
   "metadata": {},
   "outputs": [],
   "source": [
    "import skimage.io as io\n",
    "from scipy.ndimage import zoom\n",
    "\n",
    "dist = 2\n",
    "i = 2\n",
    "initial_segmented_image = zoom(io.imread(Y[i]), [2,1,1],order = 0)\n",
    "\n",
    "\n",
    "compressed_segmentation_dict = mesh_reconstruction_algorithm.compress_segmentation_mask(initial_segmented_image)"
   ]
  },
  {
   "cell_type": "code",
   "execution_count": null,
   "metadata": {},
   "outputs": [],
   "source": [
    "print(compressed_segmentation_dict)\n",
    "\n",
    "# Note that the last compressed segmentation dict can also be obtained via\n",
    "compressed_segmentation_dict = mesh_reconstruction_algorithm.last_compressed_segmentation"
   ]
  },
  {
   "cell_type": "code",
   "execution_count": null,
   "metadata": {},
   "outputs": [],
   "source": [
    "# It can also be saved on disk:\n",
    "from dw3d import save_compressed_segmentation\n",
    "\n",
    "save_compressed_segmentation(\"dict_mask.npy\", compressed_segmentation_dict)"
   ]
  },
  {
   "cell_type": "markdown",
   "metadata": {},
   "source": [
    "## 3) Reconstruct segmentation masks from the mesh. Visualize in napari for comparison"
   ]
  },
  {
   "cell_type": "code",
   "execution_count": null,
   "metadata": {},
   "outputs": [],
   "source": [
    "from dw3d import reconstruct_mask_from_dict, reconstruct_mask_from_saved_file_dict\n",
    "\n",
    "segmented_image_reconstructed = reconstruct_mask_from_saved_file_dict(\"dict_mask.npy\")\n",
    "# or if you still have the dict directly\n",
    "# segmented_image_reconstructed = reconstruct_mask_from_dict(compressed_segmentation_dict)"
   ]
  },
  {
   "cell_type": "code",
   "execution_count": null,
   "metadata": {},
   "outputs": [],
   "source": [
    "import napari\n",
    "\n",
    "v = napari.view_image(segmented_image_reconstructed)\n",
    "v.add_image(initial_segmented_image)"
   ]
  },
  {
   "cell_type": "markdown",
   "metadata": {},
   "source": [
    "## 4) Compare files size: mesh VS masks"
   ]
  },
  {
   "cell_type": "code",
   "execution_count": null,
   "metadata": {},
   "outputs": [],
   "source": [
    "\n",
    "npdict = np.load(\"dict_mask.npy\",allow_pickle=True).item()\n",
    "dict_memory_footprint = npdict[\"points\"].nbytes + npdict[\"triangles\"].nbytes + npdict[\"seeds\"].nbytes + np.array(npdict[\"image_shape\"]).nbytes\n",
    "print(\"Size of Delaunay-Watershed data:\",dict_memory_footprint,\"bytes\")\n",
    "print(\"Size of the original segmentation image:\",segmented_image_reconstructed.nbytes,\"bytes\")\n",
    "print(\"Relative size:\", dict_memory_footprint/segmented_image_reconstructed.nbytes)\n",
    "print(\"Compression factor is:\", segmented_image_reconstructed.nbytes/dict_memory_footprint)"
   ]
  }
 ],
 "metadata": {
  "kernelspec": {
   "display_name": "Python 3 (ipykernel)",
   "language": "python",
   "name": "python3"
  },
  "language_info": {
   "codemirror_mode": {
    "name": "ipython",
    "version": 3
   },
   "file_extension": ".py",
   "mimetype": "text/x-python",
   "name": "python",
   "nbconvert_exporter": "python",
   "pygments_lexer": "ipython3",
   "version": "3.11.7"
  }
 },
 "nbformat": 4,
 "nbformat_minor": 4
}
