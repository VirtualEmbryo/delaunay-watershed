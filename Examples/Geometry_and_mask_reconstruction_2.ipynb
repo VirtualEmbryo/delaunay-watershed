{
 "cells": [
  {
   "cell_type": "markdown",
   "metadata": {},
   "source": [
    "# Delaunay-Watershed for mesh creation: cell aggregate example\n",
    "\n",
    "In this notebook, we present how to compress segmentation masks of cells in an aggregate into a multimaterial mesh.\n",
    "We show that one can recompute the mask images from the mesh and seeds for segmentation algorithms if necessary."
   ]
  },
  {
   "cell_type": "markdown",
   "metadata": {},
   "source": [
    "## 1) Compute multimaterial mesh with Delaunay Watershed"
   ]
  },
  {
   "cell_type": "code",
   "execution_count": null,
   "metadata": {
    "vscode": {
     "languageId": "powershell"
    }
   },
   "outputs": [
    {
     "name": "stdout",
     "output_type": "stream",
     "text": [
      "Requirement already satisfied: tqdm in /home/perez/Documents/Sacha/delaunay_watershed_3D/.venv/lib/python3.11/site-packages (from -r ../addition_requirements.txt (line 1)) (4.66.1)\n",
      "Collecting csbdeep (from -r ../addition_requirements.txt (line 2))\n",
      "  Obtaining dependency information for csbdeep from https://files.pythonhosted.org/packages/e7/19/d00c5b9ba50b825b183a3242be1da8f9e2685386bbea5ee679167996cff5/csbdeep-0.7.4-py2.py3-none-any.whl.metadata\n",
      "  Using cached csbdeep-0.7.4-py2.py3-none-any.whl.metadata (2.5 kB)\n",
      "Collecting napari[all] (from -r ../addition_requirements.txt (line 3))\n",
      "  Obtaining dependency information for napari[all] from https://files.pythonhosted.org/packages/4e/08/3e0abcb077b5633ee029f601b9499e9fa7ca252fc9656a6957d993f60cfd/napari-0.4.18-py3-none-any.whl.metadata\n",
      "  Using cached napari-0.4.18-py3-none-any.whl.metadata (14 kB)\n",
      "Requirement already satisfied: numpy in /home/perez/Documents/Sacha/delaunay_watershed_3D/.venv/lib/python3.11/site-packages (from csbdeep->-r ../addition_requirements.txt (line 2)) (1.26.2)\n",
      "Requirement already satisfied: scipy in /home/perez/Documents/Sacha/delaunay_watershed_3D/.venv/lib/python3.11/site-packages (from csbdeep->-r ../addition_requirements.txt (line 2)) (1.11.4)\n",
      "Requirement already satisfied: matplotlib in /home/perez/Documents/Sacha/delaunay_watershed_3D/.venv/lib/python3.11/site-packages (from csbdeep->-r ../addition_requirements.txt (line 2)) (3.8.2)\n",
      "Requirement already satisfied: six in /home/perez/Documents/Sacha/delaunay_watershed_3D/.venv/lib/python3.11/site-packages (from csbdeep->-r ../addition_requirements.txt (line 2)) (1.16.0)\n",
      "Requirement already satisfied: tifffile in /home/perez/Documents/Sacha/delaunay_watershed_3D/.venv/lib/python3.11/site-packages (from csbdeep->-r ../addition_requirements.txt (line 2)) (2023.9.26)\n",
      "Requirement already satisfied: packaging in /home/perez/Documents/Sacha/delaunay_watershed_3D/.venv/lib/python3.11/site-packages (from csbdeep->-r ../addition_requirements.txt (line 2)) (23.2)\n",
      "Collecting appdirs>=1.4.4 (from napari[all]->-r ../addition_requirements.txt (line 3))\n",
      "  Using cached appdirs-1.4.4-py2.py3-none-any.whl (9.6 kB)\n",
      "Collecting app-model<0.3.0,>=0.1.0 (from napari[all]->-r ../addition_requirements.txt (line 3))\n",
      "  Obtaining dependency information for app-model<0.3.0,>=0.1.0 from https://files.pythonhosted.org/packages/e2/30/153aa03a6e1649c7891860efa07c82bf00d6c28272047d89a16a081b3d33/app_model-0.2.2-py3-none-any.whl.metadata\n",
      "  Using cached app_model-0.2.2-py3-none-any.whl.metadata (3.3 kB)\n",
      "Collecting cachey>=0.2.1 (from napari[all]->-r ../addition_requirements.txt (line 3))\n",
      "  Using cached cachey-0.2.1-py3-none-any.whl (6.4 kB)\n",
      "Collecting certifi>=2018.1.18 (from napari[all]->-r ../addition_requirements.txt (line 3))\n",
      "  Obtaining dependency information for certifi>=2018.1.18 from https://files.pythonhosted.org/packages/64/62/428ef076be88fa93716b576e4a01f919d25968913e817077a386fcbe4f42/certifi-2023.11.17-py3-none-any.whl.metadata\n",
      "  Using cached certifi-2023.11.17-py3-none-any.whl.metadata (2.2 kB)\n",
      "Collecting dask[array]!=2.28.0,>=2.15.0 (from napari[all]->-r ../addition_requirements.txt (line 3))\n",
      "  Obtaining dependency information for dask[array]!=2.28.0,>=2.15.0 from https://files.pythonhosted.org/packages/91/03/d3202129672be2931b3dad7407b24e98c0b847f7b158ffdf88d34cdcbbca/dask-2023.12.0-py3-none-any.whl.metadata\n",
      "  Using cached dask-2023.12.0-py3-none-any.whl.metadata (3.7 kB)\n",
      "Requirement already satisfied: imageio!=2.22.1,>=2.20 in /home/perez/Documents/Sacha/delaunay_watershed_3D/.venv/lib/python3.11/site-packages (from napari[all]->-r ../addition_requirements.txt (line 3)) (2.33.0)\n",
      "Collecting jsonschema>=3.2.0 (from napari[all]->-r ../addition_requirements.txt (line 3))\n",
      "  Obtaining dependency information for jsonschema>=3.2.0 from https://files.pythonhosted.org/packages/0f/ed/0058234d8dd2b1fc6beeea8eab945191a05e9d391a63202f49fe23327586/jsonschema-4.20.0-py3-none-any.whl.metadata\n",
      "  Using cached jsonschema-4.20.0-py3-none-any.whl.metadata (8.1 kB)\n",
      "Requirement already satisfied: lazy-loader>=0.2 in /home/perez/Documents/Sacha/delaunay_watershed_3D/.venv/lib/python3.11/site-packages (from napari[all]->-r ../addition_requirements.txt (line 3)) (0.3)\n",
      "Collecting magicgui>=0.3.6 (from napari[all]->-r ../addition_requirements.txt (line 3))\n",
      "  Obtaining dependency information for magicgui>=0.3.6 from https://files.pythonhosted.org/packages/9a/4e/35ba35224556bb56126ca5f6727d7fc171ee4031b0ea90b8ffb2c6e46fe2/magicgui-0.8.0-py3-none-any.whl.metadata\n",
      "  Using cached magicgui-0.8.0-py3-none-any.whl.metadata (8.3 kB)\n",
      "Collecting napari-console>=0.0.6 (from napari[all]->-r ../addition_requirements.txt (line 3))\n",
      "  Obtaining dependency information for napari-console>=0.0.6 from https://files.pythonhosted.org/packages/b5/24/5f0ff5f69f2d09c1ca64ece6e105656625f2756396f283dd1af955935dcb/napari_console-0.0.9-py3-none-any.whl.metadata\n",
      "  Using cached napari_console-0.0.9-py3-none-any.whl.metadata (3.5 kB)\n",
      "Collecting napari-plugin-engine>=0.1.9 (from napari[all]->-r ../addition_requirements.txt (line 3))\n",
      "  Using cached napari_plugin_engine-0.2.0-py3-none-any.whl (33 kB)\n",
      "Collecting napari-svg>=0.1.7 (from napari[all]->-r ../addition_requirements.txt (line 3))\n",
      "  Obtaining dependency information for napari-svg>=0.1.7 from https://files.pythonhosted.org/packages/f5/76/89f0e714518524722bd5d8e7950b1050c24a4d6ba640eb565dfd3183eaf6/napari_svg-0.1.10-py3-none-any.whl.metadata\n",
      "  Using cached napari_svg-0.1.10-py3-none-any.whl.metadata (3.5 kB)\n",
      "Collecting npe2>=0.5.2 (from napari[all]->-r ../addition_requirements.txt (line 3))\n",
      "  Obtaining dependency information for npe2>=0.5.2 from https://files.pythonhosted.org/packages/0a/25/8725d5dc10307eb36bc5d90dca3bfa44a8ba0ebfdb2ae2d0965fcd06b47f/npe2-0.7.3-py3-none-any.whl.metadata\n",
      "  Using cached npe2-0.7.3-py3-none-any.whl.metadata (3.1 kB)\n",
      "Collecting numpydoc>=0.9.2 (from napari[all]->-r ../addition_requirements.txt (line 3))\n",
      "  Obtaining dependency information for numpydoc>=0.9.2 from https://files.pythonhosted.org/packages/9c/94/09c437fd4a5fb5adf0468c0865c781dbc11d399544b55f1163d5d4414afb/numpydoc-1.6.0-py3-none-any.whl.metadata\n",
      "  Using cached numpydoc-1.6.0-py3-none-any.whl.metadata (4.2 kB)\n",
      "Requirement already satisfied: Pillow!=7.1.0,!=7.1.1 in /home/perez/Documents/Sacha/delaunay_watershed_3D/.venv/lib/python3.11/site-packages (from napari[all]->-r ../addition_requirements.txt (line 3)) (10.1.0)\n",
      "Collecting pint>=0.17 (from napari[all]->-r ../addition_requirements.txt (line 3))\n",
      "  Obtaining dependency information for pint>=0.17 from https://files.pythonhosted.org/packages/ba/70/f3fa88f899cdf17535ddb75c4d4f1d540199524d9dd7479e66aac777de47/Pint-0.22-py3-none-any.whl.metadata\n",
      "  Using cached Pint-0.22-py3-none-any.whl.metadata (7.7 kB)\n",
      "Requirement already satisfied: psutil>=5.0 in /home/perez/Documents/Sacha/delaunay_watershed_3D/.venv/lib/python3.11/site-packages (from napari[all]->-r ../addition_requirements.txt (line 3)) (5.9.6)\n",
      "Collecting psygnal>=0.3.4 (from napari[all]->-r ../addition_requirements.txt (line 3))\n",
      "  Obtaining dependency information for psygnal>=0.3.4 from https://files.pythonhosted.org/packages/7d/9f/242a8f074fdb6c756466a04b99f5cce40bdf604216e0573222955b98937e/psygnal-0.9.5-cp311-cp311-manylinux_2_17_x86_64.manylinux2014_x86_64.whl.metadata\n",
      "  Using cached psygnal-0.9.5-cp311-cp311-manylinux_2_17_x86_64.manylinux2014_x86_64.whl.metadata (6.9 kB)\n",
      "Collecting pydantic<2,>=1.9.0 (from napari[all]->-r ../addition_requirements.txt (line 3))\n",
      "  Obtaining dependency information for pydantic<2,>=1.9.0 from https://files.pythonhosted.org/packages/d2/16/2edfe3e52de9d46fee81d9b9ace90fd7a49a86e7a36d7fc280183f77515a/pydantic-1.10.13-cp311-cp311-manylinux_2_17_x86_64.manylinux2014_x86_64.whl.metadata\n",
      "  Using cached pydantic-1.10.13-cp311-cp311-manylinux_2_17_x86_64.manylinux2014_x86_64.whl.metadata (149 kB)\n",
      "Requirement already satisfied: pygments>=2.6.0 in /home/perez/Documents/Sacha/delaunay_watershed_3D/.venv/lib/python3.11/site-packages (from napari[all]->-r ../addition_requirements.txt (line 3)) (2.17.2)\n",
      "Collecting PyOpenGL>=3.1.0 (from napari[all]->-r ../addition_requirements.txt (line 3))\n",
      "  Obtaining dependency information for PyOpenGL>=3.1.0 from https://files.pythonhosted.org/packages/99/48/00e31747821d3fc56faddd00a4725454d1e694a8b67d715cf20f531506a5/PyOpenGL-3.1.7-py3-none-any.whl.metadata\n",
      "  Using cached PyOpenGL-3.1.7-py3-none-any.whl.metadata (3.2 kB)\n",
      "Collecting PyYAML>=5.1 (from napari[all]->-r ../addition_requirements.txt (line 3))\n",
      "  Obtaining dependency information for PyYAML>=5.1 from https://files.pythonhosted.org/packages/7b/5e/efd033ab7199a0b2044dab3b9f7a4f6670e6a52c089de572e928d2873b06/PyYAML-6.0.1-cp311-cp311-manylinux_2_17_x86_64.manylinux2014_x86_64.whl.metadata\n",
      "  Using cached PyYAML-6.0.1-cp311-cp311-manylinux_2_17_x86_64.manylinux2014_x86_64.whl.metadata (2.1 kB)\n",
      "Collecting qtpy>=1.10.0 (from napari[all]->-r ../addition_requirements.txt (line 3))\n",
      "  Obtaining dependency information for qtpy>=1.10.0 from https://files.pythonhosted.org/packages/7e/a9/2146d5117ad8a81185331e0809a6b48933c10171f5bac253c6df9fce991c/QtPy-2.4.1-py3-none-any.whl.metadata\n",
      "  Using cached QtPy-2.4.1-py3-none-any.whl.metadata (12 kB)\n",
      "Requirement already satisfied: scikit-image[data]>=0.19.1 in /home/perez/Documents/Sacha/delaunay_watershed_3D/.venv/lib/python3.11/site-packages (from napari[all]->-r ../addition_requirements.txt (line 3)) (0.22.0)\n",
      "Collecting sphinx<5,>=4.3.0 (from napari[all]->-r ../addition_requirements.txt (line 3))\n",
      "  Using cached Sphinx-4.5.0-py3-none-any.whl (3.1 MB)\n",
      "Collecting superqt>=0.4.1 (from napari[all]->-r ../addition_requirements.txt (line 3))\n",
      "  Obtaining dependency information for superqt>=0.4.1 from https://files.pythonhosted.org/packages/9e/25/f24abb44959276070c737bd45d2a2948b814360629a83a93d291dc42baf3/superqt-0.6.1-py3-none-any.whl.metadata\n",
      "  Using cached superqt-0.6.1-py3-none-any.whl.metadata (5.7 kB)\n",
      "Collecting toolz>=0.10.0 (from napari[all]->-r ../addition_requirements.txt (line 3))\n",
      "  Using cached toolz-0.12.0-py3-none-any.whl (55 kB)\n",
      "Requirement already satisfied: typing-extensions>=4.2.0 in /home/perez/Documents/Sacha/delaunay_watershed_3D/.venv/lib/python3.11/site-packages (from napari[all]->-r ../addition_requirements.txt (line 3)) (4.8.0)\n",
      "Collecting vispy<0.13,>=0.12.1 (from napari[all]->-r ../addition_requirements.txt (line 3))\n",
      "  Using cached vispy-0.12.2-cp311-cp311-manylinux_2_5_x86_64.manylinux1_x86_64.manylinux_2_17_x86_64.manylinux2014_x86_64.whl (1.5 MB)\n",
      "Collecting wrapt>=1.11.1 (from napari[all]->-r ../addition_requirements.txt (line 3))\n",
      "  Obtaining dependency information for wrapt>=1.11.1 from https://files.pythonhosted.org/packages/6e/52/2da48b35193e39ac53cfb141467d9f259851522d0e8c87153f0ba4205fb1/wrapt-1.16.0-cp311-cp311-manylinux_2_5_x86_64.manylinux1_x86_64.manylinux_2_17_x86_64.manylinux2014_x86_64.whl.metadata\n",
      "  Using cached wrapt-1.16.0-cp311-cp311-manylinux_2_5_x86_64.manylinux1_x86_64.manylinux_2_17_x86_64.manylinux2014_x86_64.whl.metadata (6.6 kB)\n",
      "Collecting pandas>=1.3.0 (from napari[all]->-r ../addition_requirements.txt (line 3))\n",
      "  Obtaining dependency information for pandas>=1.3.0 from https://files.pythonhosted.org/packages/08/de/d4448c423484537ebc9373d3da2496a2e47f42ea11ff48e025cf49665471/pandas-2.1.3-cp311-cp311-manylinux_2_17_x86_64.manylinux2014_x86_64.whl.metadata\n",
      "  Using cached pandas-2.1.3-cp311-cp311-manylinux_2_17_x86_64.manylinux2014_x86_64.whl.metadata (18 kB)\n",
      "Collecting PyQt5!=5.15.0,>=5.12.3 (from napari[all]->-r ../addition_requirements.txt (line 3))\n",
      "  Obtaining dependency information for PyQt5!=5.15.0,>=5.12.3 from https://files.pythonhosted.org/packages/2f/e6/a1f9853e4933c312c6de9c79d126c7d92ef69ae0e53895fb1ceb0ecc77a6/PyQt5-5.15.10-cp37-abi3-manylinux_2_17_x86_64.whl.metadata\n",
      "  Using cached PyQt5-5.15.10-cp37-abi3-manylinux_2_17_x86_64.whl.metadata (2.1 kB)\n",
      "Collecting napari-plugin-manager<0.2.0,>=0.1.0a1 (from napari[all]->-r ../addition_requirements.txt (line 3))\n",
      "  Obtaining dependency information for napari-plugin-manager<0.2.0,>=0.1.0a1 from https://files.pythonhosted.org/packages/6a/93/6aba9e00eadd511dc063735c79f5ec806303dcdfbc8249ed5e7695f6a6f0/napari_plugin_manager-0.1.0a2-py3-none-any.whl.metadata\n",
      "  Using cached napari_plugin_manager-0.1.0a2-py3-none-any.whl.metadata (4.9 kB)\n",
      "Collecting in-n-out>=0.1.5 (from app-model<0.3.0,>=0.1.0->napari[all]->-r ../addition_requirements.txt (line 3))\n",
      "  Obtaining dependency information for in-n-out>=0.1.5 from https://files.pythonhosted.org/packages/f9/55/63d6a5becd5a019136070350d8533e5239add6e920b7dd016ad3048ee7da/in_n_out-0.1.9-py3-none-any.whl.metadata\n",
      "  Using cached in_n_out-0.1.9-py3-none-any.whl.metadata (3.8 kB)\n",
      "Collecting heapdict (from cachey>=0.2.1->napari[all]->-r ../addition_requirements.txt (line 3))\n",
      "  Using cached HeapDict-1.0.1-py3-none-any.whl (3.9 kB)\n",
      "Collecting click>=8.1 (from dask[array]!=2.28.0,>=2.15.0->napari[all]->-r ../addition_requirements.txt (line 3))\n",
      "  Obtaining dependency information for click>=8.1 from https://files.pythonhosted.org/packages/00/2e/d53fa4befbf2cfa713304affc7ca780ce4fc1fd8710527771b58311a3229/click-8.1.7-py3-none-any.whl.metadata\n",
      "  Using cached click-8.1.7-py3-none-any.whl.metadata (3.0 kB)\n",
      "Collecting cloudpickle>=1.5.0 (from dask[array]!=2.28.0,>=2.15.0->napari[all]->-r ../addition_requirements.txt (line 3))\n",
      "  Obtaining dependency information for cloudpickle>=1.5.0 from https://files.pythonhosted.org/packages/96/43/dae06432d0c4b1dc9e9149ad37b4ca8384cf6eb7700cd9215b177b914f0a/cloudpickle-3.0.0-py3-none-any.whl.metadata\n",
      "  Using cached cloudpickle-3.0.0-py3-none-any.whl.metadata (7.0 kB)\n",
      "Requirement already satisfied: fsspec>=2021.09.0 in /home/perez/Documents/Sacha/delaunay_watershed_3D/.venv/lib/python3.11/site-packages (from dask[array]!=2.28.0,>=2.15.0->napari[all]->-r ../addition_requirements.txt (line 3)) (2023.12.0)\n",
      "Collecting partd>=1.2.0 (from dask[array]!=2.28.0,>=2.15.0->napari[all]->-r ../addition_requirements.txt (line 3))\n",
      "  Obtaining dependency information for partd>=1.2.0 from https://files.pythonhosted.org/packages/11/8a/b7a58e208b144a7315208a0dd627e23f5f50b47fa89c2924bb2e9238ecfb/partd-1.4.1-py3-none-any.whl.metadata\n",
      "  Using cached partd-1.4.1-py3-none-any.whl.metadata (4.6 kB)\n",
      "Collecting importlib-metadata>=4.13.0 (from dask[array]!=2.28.0,>=2.15.0->napari[all]->-r ../addition_requirements.txt (line 3))\n",
      "  Obtaining dependency information for importlib-metadata>=4.13.0 from https://files.pythonhosted.org/packages/73/26/9777cfe0cdc8181a32eaf542f4a2a435e5aba5dd38f41cfc0a532dc51027/importlib_metadata-7.0.0-py3-none-any.whl.metadata\n",
      "  Using cached importlib_metadata-7.0.0-py3-none-any.whl.metadata (4.9 kB)\n",
      "Collecting attrs>=22.2.0 (from jsonschema>=3.2.0->napari[all]->-r ../addition_requirements.txt (line 3))\n",
      "  Using cached attrs-23.1.0-py3-none-any.whl (61 kB)\n",
      "Collecting jsonschema-specifications>=2023.03.6 (from jsonschema>=3.2.0->napari[all]->-r ../addition_requirements.txt (line 3))\n",
      "  Obtaining dependency information for jsonschema-specifications>=2023.03.6 from https://files.pythonhosted.org/packages/d7/48/b62ccba8f4ac91817d6a11b340e63806175dafb10234a8cf7140bd389da5/jsonschema_specifications-2023.11.2-py3-none-any.whl.metadata\n",
      "  Using cached jsonschema_specifications-2023.11.2-py3-none-any.whl.metadata (3.0 kB)\n",
      "Collecting referencing>=0.28.4 (from jsonschema>=3.2.0->napari[all]->-r ../addition_requirements.txt (line 3))\n",
      "  Obtaining dependency information for referencing>=0.28.4 from https://files.pythonhosted.org/packages/ec/d8/e826b3f743d97e45d3ace674a5c6f026069428e608c5fde3d08d072c87f2/referencing-0.31.1-py3-none-any.whl.metadata\n",
      "  Using cached referencing-0.31.1-py3-none-any.whl.metadata (2.7 kB)\n",
      "Collecting rpds-py>=0.7.1 (from jsonschema>=3.2.0->napari[all]->-r ../addition_requirements.txt (line 3))\n",
      "  Obtaining dependency information for rpds-py>=0.7.1 from https://files.pythonhosted.org/packages/9b/8c/070ffa64e7e27dbeab360e624d51baf8dbaeb0d9e9b52db3000a876cf970/rpds_py-0.13.2-cp311-cp311-manylinux_2_17_x86_64.manylinux2014_x86_64.whl.metadata\n",
      "  Using cached rpds_py-0.13.2-cp311-cp311-manylinux_2_17_x86_64.manylinux2014_x86_64.whl.metadata (3.9 kB)\n",
      "Collecting docstring-parser>=0.7 (from magicgui>=0.3.6->napari[all]->-r ../addition_requirements.txt (line 3))\n",
      "  Using cached docstring_parser-0.15-py3-none-any.whl (36 kB)\n",
      "Requirement already satisfied: IPython>=7.7.0 in /home/perez/Documents/Sacha/delaunay_watershed_3D/.venv/lib/python3.11/site-packages (from napari-console>=0.0.6->napari[all]->-r ../addition_requirements.txt (line 3)) (8.18.1)\n",
      "Requirement already satisfied: ipykernel>=5.2.0 in /home/perez/Documents/Sacha/delaunay_watershed_3D/.venv/lib/python3.11/site-packages (from napari-console>=0.0.6->napari[all]->-r ../addition_requirements.txt (line 3)) (6.27.1)\n",
      "Collecting qtconsole!=4.7.6,!=5.4.2,>=4.5.1 (from napari-console>=0.0.6->napari[all]->-r ../addition_requirements.txt (line 3))\n",
      "  Obtaining dependency information for qtconsole!=4.7.6,!=5.4.2,>=4.5.1 from https://files.pythonhosted.org/packages/d5/21/0887c50fa5bca7bfde29f65999a6ac234617f2a007b6b387aa4dc0ca36a8/qtconsole-5.5.1-py3-none-any.whl.metadata\n",
      "  Using cached qtconsole-5.5.1-py3-none-any.whl.metadata (5.1 kB)\n",
      "Requirement already satisfied: pip in /home/perez/Documents/Sacha/delaunay_watershed_3D/.venv/lib/python3.11/site-packages (from napari-plugin-manager<0.2.0,>=0.1.0a1->napari[all]->-r ../addition_requirements.txt (line 3)) (23.2.1)\n",
      "Collecting build>=1 (from npe2>=0.5.2->napari[all]->-r ../addition_requirements.txt (line 3))\n",
      "  Obtaining dependency information for build>=1 from https://files.pythonhosted.org/packages/93/dd/b464b728b866aaa62785a609e0dd8c72201d62c5f7c53e7c20f4dceb085f/build-1.0.3-py3-none-any.whl.metadata\n",
      "  Using cached build-1.0.3-py3-none-any.whl.metadata (4.2 kB)\n",
      "Collecting rich (from npe2>=0.5.2->napari[all]->-r ../addition_requirements.txt (line 3))\n",
      "  Obtaining dependency information for rich from https://files.pythonhosted.org/packages/be/be/1520178fa01eabe014b16e72a952b9f900631142ccd03dc36cf93e30c1ce/rich-13.7.0-py3-none-any.whl.metadata\n",
      "  Using cached rich-13.7.0-py3-none-any.whl.metadata (18 kB)\n",
      "Collecting tomli-w (from npe2>=0.5.2->napari[all]->-r ../addition_requirements.txt (line 3))\n",
      "  Using cached tomli_w-1.0.0-py3-none-any.whl (6.0 kB)\n",
      "Collecting typer (from npe2>=0.5.2->napari[all]->-r ../addition_requirements.txt (line 3))\n",
      "  Using cached typer-0.9.0-py3-none-any.whl (45 kB)\n",
      "INFO: pip is looking at multiple versions of numpydoc to determine which version is compatible with other requirements. This could take a while.\n",
      "Collecting numpydoc>=0.9.2 (from napari[all]->-r ../addition_requirements.txt (line 3))\n",
      "  Using cached numpydoc-1.5.0-py3-none-any.whl (52 kB)\n",
      "Requirement already satisfied: Jinja2>=2.10 in /home/perez/Documents/Sacha/delaunay_watershed_3D/.venv/lib/python3.11/site-packages (from numpydoc>=0.9.2->napari[all]->-r ../addition_requirements.txt (line 3)) (3.1.2)\n",
      "Requirement already satisfied: python-dateutil>=2.8.2 in /home/perez/Documents/Sacha/delaunay_watershed_3D/.venv/lib/python3.11/site-packages (from pandas>=1.3.0->napari[all]->-r ../addition_requirements.txt (line 3)) (2.8.2)\n",
      "Collecting pytz>=2020.1 (from pandas>=1.3.0->napari[all]->-r ../addition_requirements.txt (line 3))\n",
      "  Obtaining dependency information for pytz>=2020.1 from https://files.pythonhosted.org/packages/32/4d/aaf7eff5deb402fd9a24a1449a8119f00d74ae9c2efa79f8ef9994261fc2/pytz-2023.3.post1-py2.py3-none-any.whl.metadata\n",
      "  Using cached pytz-2023.3.post1-py2.py3-none-any.whl.metadata (22 kB)\n",
      "Collecting tzdata>=2022.1 (from pandas>=1.3.0->napari[all]->-r ../addition_requirements.txt (line 3))\n",
      "  Using cached tzdata-2023.3-py2.py3-none-any.whl (341 kB)\n",
      "Collecting mypy-extensions (from psygnal>=0.3.4->napari[all]->-r ../addition_requirements.txt (line 3))\n",
      "  Using cached mypy_extensions-1.0.0-py3-none-any.whl (4.7 kB)\n",
      "Collecting PyQt5-sip<13,>=12.13 (from PyQt5!=5.15.0,>=5.12.3->napari[all]->-r ../addition_requirements.txt (line 3))\n",
      "  Obtaining dependency information for PyQt5-sip<13,>=12.13 from https://files.pythonhosted.org/packages/ca/b0/5af957d148693e1d1b1e2e33c51dd9c8a3c29f7ac21008684d612c0b86c3/PyQt5_sip-12.13.0-cp311-cp311-manylinux_2_5_x86_64.manylinux1_x86_64.whl.metadata\n",
      "  Using cached PyQt5_sip-12.13.0-cp311-cp311-manylinux_2_5_x86_64.manylinux1_x86_64.whl.metadata (504 bytes)\n",
      "Collecting PyQt5-Qt5>=5.15.2 (from PyQt5!=5.15.0,>=5.12.3->napari[all]->-r ../addition_requirements.txt (line 3))\n",
      "  Using cached PyQt5_Qt5-5.15.2-py3-none-manylinux2014_x86_64.whl (59.9 MB)\n",
      "Requirement already satisfied: networkx>=2.8 in /home/perez/Documents/Sacha/delaunay_watershed_3D/.venv/lib/python3.11/site-packages (from scikit-image[data]>=0.19.1->napari[all]->-r ../addition_requirements.txt (line 3)) (3.2.1)\n",
      "Collecting pooch>=1.6.0 (from scikit-image[data]>=0.19.1->napari[all]->-r ../addition_requirements.txt (line 3))\n",
      "  Obtaining dependency information for pooch>=1.6.0 from https://files.pythonhosted.org/packages/1a/a5/5174dac3957ac412e80a00f30b6507031fcab7000afc9ea0ac413bddcff2/pooch-1.8.0-py3-none-any.whl.metadata\n",
      "  Using cached pooch-1.8.0-py3-none-any.whl.metadata (9.9 kB)\n",
      "Collecting sphinxcontrib-applehelp (from sphinx<5,>=4.3.0->napari[all]->-r ../addition_requirements.txt (line 3))\n",
      "  Obtaining dependency information for sphinxcontrib-applehelp from https://files.pythonhosted.org/packages/c0/0c/261c0949083c0ac635853528bb0070c89e927841d4e533ba0b5563365c06/sphinxcontrib_applehelp-1.0.7-py3-none-any.whl.metadata\n",
      "  Using cached sphinxcontrib_applehelp-1.0.7-py3-none-any.whl.metadata (2.2 kB)\n",
      "Collecting sphinxcontrib-devhelp (from sphinx<5,>=4.3.0->napari[all]->-r ../addition_requirements.txt (line 3))\n",
      "  Obtaining dependency information for sphinxcontrib-devhelp from https://files.pythonhosted.org/packages/c0/03/010ac733ec7b7f71c1dc88e7115743ee466560d6d85373b56fb9916e4586/sphinxcontrib_devhelp-1.0.5-py3-none-any.whl.metadata\n",
      "  Using cached sphinxcontrib_devhelp-1.0.5-py3-none-any.whl.metadata (2.2 kB)\n",
      "Collecting sphinxcontrib-jsmath (from sphinx<5,>=4.3.0->napari[all]->-r ../addition_requirements.txt (line 3))\n",
      "  Using cached sphinxcontrib_jsmath-1.0.1-py2.py3-none-any.whl (5.1 kB)\n",
      "Collecting sphinxcontrib-htmlhelp>=2.0.0 (from sphinx<5,>=4.3.0->napari[all]->-r ../addition_requirements.txt (line 3))\n",
      "  Obtaining dependency information for sphinxcontrib-htmlhelp>=2.0.0 from https://files.pythonhosted.org/packages/28/7a/958f8e3e6abe8219d0d1f1224886de847ab227b218f4a07b61bc337f64be/sphinxcontrib_htmlhelp-2.0.4-py3-none-any.whl.metadata\n",
      "  Using cached sphinxcontrib_htmlhelp-2.0.4-py3-none-any.whl.metadata (2.2 kB)\n",
      "Collecting sphinxcontrib-serializinghtml>=1.1.5 (from sphinx<5,>=4.3.0->napari[all]->-r ../addition_requirements.txt (line 3))\n",
      "  Obtaining dependency information for sphinxcontrib-serializinghtml>=1.1.5 from https://files.pythonhosted.org/packages/95/d6/2e0bda62b2a808070ac922d21a950aa2cb5e4fcfb87e5ff5f86bc43a2201/sphinxcontrib_serializinghtml-1.1.9-py3-none-any.whl.metadata\n",
      "  Using cached sphinxcontrib_serializinghtml-1.1.9-py3-none-any.whl.metadata (2.3 kB)\n",
      "Collecting sphinxcontrib-qthelp (from sphinx<5,>=4.3.0->napari[all]->-r ../addition_requirements.txt (line 3))\n",
      "  Obtaining dependency information for sphinxcontrib-qthelp from https://files.pythonhosted.org/packages/1f/e5/1850f3f118e95581c1e30b57028ac979badee1eb29e70ee72b0241f5a185/sphinxcontrib_qthelp-1.0.6-py3-none-any.whl.metadata\n",
      "  Using cached sphinxcontrib_qthelp-1.0.6-py3-none-any.whl.metadata (2.2 kB)\n",
      "Collecting docutils<0.18,>=0.14 (from sphinx<5,>=4.3.0->napari[all]->-r ../addition_requirements.txt (line 3))\n",
      "  Using cached docutils-0.17.1-py2.py3-none-any.whl (575 kB)\n",
      "Collecting snowballstemmer>=1.1 (from sphinx<5,>=4.3.0->napari[all]->-r ../addition_requirements.txt (line 3))\n",
      "  Using cached snowballstemmer-2.2.0-py2.py3-none-any.whl (93 kB)\n",
      "Collecting babel>=1.3 (from sphinx<5,>=4.3.0->napari[all]->-r ../addition_requirements.txt (line 3))\n",
      "  Obtaining dependency information for babel>=1.3 from https://files.pythonhosted.org/packages/86/14/5dc2eb02b7cc87b2f95930310a2cc5229198414919a116b564832c747bc1/Babel-2.13.1-py3-none-any.whl.metadata\n",
      "  Using cached Babel-2.13.1-py3-none-any.whl.metadata (1.6 kB)\n",
      "Collecting alabaster<0.8,>=0.7 (from sphinx<5,>=4.3.0->napari[all]->-r ../addition_requirements.txt (line 3))\n",
      "  Using cached alabaster-0.7.13-py3-none-any.whl (13 kB)\n",
      "Collecting imagesize (from sphinx<5,>=4.3.0->napari[all]->-r ../addition_requirements.txt (line 3))\n",
      "  Using cached imagesize-1.4.1-py2.py3-none-any.whl (8.8 kB)\n",
      "Collecting requests>=2.5.0 (from sphinx<5,>=4.3.0->napari[all]->-r ../addition_requirements.txt (line 3))\n",
      "  Obtaining dependency information for requests>=2.5.0 from https://files.pythonhosted.org/packages/70/8e/0e2d847013cb52cd35b38c009bb167a1a26b2ce6cd6965bf26b47bc0bf44/requests-2.31.0-py3-none-any.whl.metadata\n",
      "  Using cached requests-2.31.0-py3-none-any.whl.metadata (4.6 kB)\n",
      "Collecting freetype-py (from vispy<0.13,>=0.12.1->napari[all]->-r ../addition_requirements.txt (line 3))\n",
      "  Using cached freetype_py-2.4.0-py3-none-manylinux_2_5_x86_64.manylinux1_x86_64.manylinux_2_12_x86_64.manylinux2010_x86_64.whl (1.0 MB)\n",
      "Collecting hsluv (from vispy<0.13,>=0.12.1->napari[all]->-r ../addition_requirements.txt (line 3))\n",
      "  Obtaining dependency information for hsluv from https://files.pythonhosted.org/packages/96/36/5bddefea3d7adf22a64f9aa9701492f8a9fe6948223f5cf2602c22ec9be7/hsluv-5.0.4-py2.py3-none-any.whl.metadata\n",
      "  Using cached hsluv-5.0.4-py2.py3-none-any.whl.metadata (2.7 kB)\n",
      "Requirement already satisfied: kiwisolver in /home/perez/Documents/Sacha/delaunay_watershed_3D/.venv/lib/python3.11/site-packages (from vispy<0.13,>=0.12.1->napari[all]->-r ../addition_requirements.txt (line 3)) (1.4.5)\n",
      "Requirement already satisfied: contourpy>=1.0.1 in /home/perez/Documents/Sacha/delaunay_watershed_3D/.venv/lib/python3.11/site-packages (from matplotlib->csbdeep->-r ../addition_requirements.txt (line 2)) (1.2.0)\n",
      "Requirement already satisfied: cycler>=0.10 in /home/perez/Documents/Sacha/delaunay_watershed_3D/.venv/lib/python3.11/site-packages (from matplotlib->csbdeep->-r ../addition_requirements.txt (line 2)) (0.12.1)\n",
      "Requirement already satisfied: fonttools>=4.22.0 in /home/perez/Documents/Sacha/delaunay_watershed_3D/.venv/lib/python3.11/site-packages (from matplotlib->csbdeep->-r ../addition_requirements.txt (line 2)) (4.46.0)\n",
      "Requirement already satisfied: pyparsing>=2.3.1 in /home/perez/Documents/Sacha/delaunay_watershed_3D/.venv/lib/python3.11/site-packages (from matplotlib->csbdeep->-r ../addition_requirements.txt (line 2)) (3.1.1)\n",
      "Collecting pyproject_hooks (from build>=1->npe2>=0.5.2->napari[all]->-r ../addition_requirements.txt (line 3))\n",
      "  Using cached pyproject_hooks-1.0.0-py3-none-any.whl (9.3 kB)\n",
      "Collecting zipp>=0.5 (from importlib-metadata>=4.13.0->dask[array]!=2.28.0,>=2.15.0->napari[all]->-r ../addition_requirements.txt (line 3))\n",
      "  Obtaining dependency information for zipp>=0.5 from https://files.pythonhosted.org/packages/d9/66/48866fc6b158c81cc2bfecc04c480f105c6040e8b077bc54c634b4a67926/zipp-3.17.0-py3-none-any.whl.metadata\n",
      "  Using cached zipp-3.17.0-py3-none-any.whl.metadata (3.7 kB)\n",
      "Requirement already satisfied: comm>=0.1.1 in /home/perez/Documents/Sacha/delaunay_watershed_3D/.venv/lib/python3.11/site-packages (from ipykernel>=5.2.0->napari-console>=0.0.6->napari[all]->-r ../addition_requirements.txt (line 3)) (0.2.0)\n",
      "Requirement already satisfied: debugpy>=1.6.5 in /home/perez/Documents/Sacha/delaunay_watershed_3D/.venv/lib/python3.11/site-packages (from ipykernel>=5.2.0->napari-console>=0.0.6->napari[all]->-r ../addition_requirements.txt (line 3)) (1.8.0)\n",
      "Requirement already satisfied: jupyter-client>=6.1.12 in /home/perez/Documents/Sacha/delaunay_watershed_3D/.venv/lib/python3.11/site-packages (from ipykernel>=5.2.0->napari-console>=0.0.6->napari[all]->-r ../addition_requirements.txt (line 3)) (8.6.0)\n",
      "Requirement already satisfied: jupyter-core!=5.0.*,>=4.12 in /home/perez/Documents/Sacha/delaunay_watershed_3D/.venv/lib/python3.11/site-packages (from ipykernel>=5.2.0->napari-console>=0.0.6->napari[all]->-r ../addition_requirements.txt (line 3)) (5.5.0)\n",
      "Requirement already satisfied: matplotlib-inline>=0.1 in /home/perez/Documents/Sacha/delaunay_watershed_3D/.venv/lib/python3.11/site-packages (from ipykernel>=5.2.0->napari-console>=0.0.6->napari[all]->-r ../addition_requirements.txt (line 3)) (0.1.6)\n",
      "Requirement already satisfied: nest-asyncio in /home/perez/Documents/Sacha/delaunay_watershed_3D/.venv/lib/python3.11/site-packages (from ipykernel>=5.2.0->napari-console>=0.0.6->napari[all]->-r ../addition_requirements.txt (line 3)) (1.5.8)\n",
      "Requirement already satisfied: pyzmq>=20 in /home/perez/Documents/Sacha/delaunay_watershed_3D/.venv/lib/python3.11/site-packages (from ipykernel>=5.2.0->napari-console>=0.0.6->napari[all]->-r ../addition_requirements.txt (line 3)) (25.1.2)\n",
      "Requirement already satisfied: tornado>=6.1 in /home/perez/Documents/Sacha/delaunay_watershed_3D/.venv/lib/python3.11/site-packages (from ipykernel>=5.2.0->napari-console>=0.0.6->napari[all]->-r ../addition_requirements.txt (line 3)) (6.4)\n",
      "Requirement already satisfied: traitlets>=5.4.0 in /home/perez/Documents/Sacha/delaunay_watershed_3D/.venv/lib/python3.11/site-packages (from ipykernel>=5.2.0->napari-console>=0.0.6->napari[all]->-r ../addition_requirements.txt (line 3)) (5.14.0)\n",
      "Requirement already satisfied: decorator in /home/perez/Documents/Sacha/delaunay_watershed_3D/.venv/lib/python3.11/site-packages (from IPython>=7.7.0->napari-console>=0.0.6->napari[all]->-r ../addition_requirements.txt (line 3)) (5.1.1)\n",
      "Requirement already satisfied: jedi>=0.16 in /home/perez/Documents/Sacha/delaunay_watershed_3D/.venv/lib/python3.11/site-packages (from IPython>=7.7.0->napari-console>=0.0.6->napari[all]->-r ../addition_requirements.txt (line 3)) (0.19.1)\n",
      "Requirement already satisfied: prompt-toolkit<3.1.0,>=3.0.41 in /home/perez/Documents/Sacha/delaunay_watershed_3D/.venv/lib/python3.11/site-packages (from IPython>=7.7.0->napari-console>=0.0.6->napari[all]->-r ../addition_requirements.txt (line 3)) (3.0.41)\n",
      "Requirement already satisfied: stack-data in /home/perez/Documents/Sacha/delaunay_watershed_3D/.venv/lib/python3.11/site-packages (from IPython>=7.7.0->napari-console>=0.0.6->napari[all]->-r ../addition_requirements.txt (line 3)) (0.6.3)\n",
      "Requirement already satisfied: pexpect>4.3 in /home/perez/Documents/Sacha/delaunay_watershed_3D/.venv/lib/python3.11/site-packages (from IPython>=7.7.0->napari-console>=0.0.6->napari[all]->-r ../addition_requirements.txt (line 3)) (4.9.0)\n",
      "Requirement already satisfied: MarkupSafe>=2.0 in /home/perez/Documents/Sacha/delaunay_watershed_3D/.venv/lib/python3.11/site-packages (from Jinja2>=2.10->numpydoc>=0.9.2->napari[all]->-r ../addition_requirements.txt (line 3)) (2.1.3)\n",
      "Collecting locket (from partd>=1.2.0->dask[array]!=2.28.0,>=2.15.0->napari[all]->-r ../addition_requirements.txt (line 3))\n",
      "  Using cached locket-1.0.0-py2.py3-none-any.whl (4.4 kB)\n",
      "Requirement already satisfied: platformdirs>=2.5.0 in /home/perez/Documents/Sacha/delaunay_watershed_3D/.venv/lib/python3.11/site-packages (from pooch>=1.6.0->scikit-image[data]>=0.19.1->napari[all]->-r ../addition_requirements.txt (line 3)) (4.1.0)\n",
      "Collecting charset-normalizer<4,>=2 (from requests>=2.5.0->sphinx<5,>=4.3.0->napari[all]->-r ../addition_requirements.txt (line 3))\n",
      "  Obtaining dependency information for charset-normalizer<4,>=2 from https://files.pythonhosted.org/packages/40/26/f35951c45070edc957ba40a5b1db3cf60a9dbb1b350c2d5bef03e01e61de/charset_normalizer-3.3.2-cp311-cp311-manylinux_2_17_x86_64.manylinux2014_x86_64.whl.metadata\n",
      "  Using cached charset_normalizer-3.3.2-cp311-cp311-manylinux_2_17_x86_64.manylinux2014_x86_64.whl.metadata (33 kB)\n",
      "Collecting idna<4,>=2.5 (from requests>=2.5.0->sphinx<5,>=4.3.0->napari[all]->-r ../addition_requirements.txt (line 3))\n",
      "  Obtaining dependency information for idna<4,>=2.5 from https://files.pythonhosted.org/packages/c2/e7/a82b05cf63a603df6e68d59ae6a68bf5064484a0718ea5033660af4b54a9/idna-3.6-py3-none-any.whl.metadata\n",
      "  Using cached idna-3.6-py3-none-any.whl.metadata (9.9 kB)\n",
      "Collecting urllib3<3,>=1.21.1 (from requests>=2.5.0->sphinx<5,>=4.3.0->napari[all]->-r ../addition_requirements.txt (line 3))\n",
      "  Obtaining dependency information for urllib3<3,>=1.21.1 from https://files.pythonhosted.org/packages/96/94/c31f58c7a7f470d5665935262ebd7455c7e4c7782eb525658d3dbf4b9403/urllib3-2.1.0-py3-none-any.whl.metadata\n",
      "  Using cached urllib3-2.1.0-py3-none-any.whl.metadata (6.4 kB)\n",
      "INFO: pip is looking at multiple versions of sphinxcontrib-htmlhelp to determine which version is compatible with other requirements. This could take a while.\n",
      "Collecting sphinxcontrib-htmlhelp>=2.0.0 (from sphinx<5,>=4.3.0->napari[all]->-r ../addition_requirements.txt (line 3))\n",
      "  Obtaining dependency information for sphinxcontrib-htmlhelp>=2.0.0 from https://files.pythonhosted.org/packages/d0/a1/5b678486ce3f7f3135ac5396db4591e967fc6709f27aa57fe13c97180953/sphinxcontrib_htmlhelp-2.0.3-py3-none-any.whl.metadata\n",
      "  Using cached sphinxcontrib_htmlhelp-2.0.3-py3-none-any.whl.metadata (2.2 kB)\n",
      "  Obtaining dependency information for sphinxcontrib-htmlhelp>=2.0.0 from https://files.pythonhosted.org/packages/57/41/ad44d14fd5273a7b20905fa4dd8444abf1795f6581666f6272e7d8cabf5a/sphinxcontrib_htmlhelp-2.0.2-py3-none-any.whl.metadata\n",
      "  Using cached sphinxcontrib_htmlhelp-2.0.2-py3-none-any.whl.metadata (2.2 kB)\n",
      "  Using cached sphinxcontrib_htmlhelp-2.0.1-py3-none-any.whl (99 kB)\n",
      "INFO: pip is looking at multiple versions of sphinxcontrib-serializinghtml to determine which version is compatible with other requirements. This could take a while.\n",
      "Collecting sphinxcontrib-serializinghtml>=1.1.5 (from sphinx<5,>=4.3.0->napari[all]->-r ../addition_requirements.txt (line 3))\n",
      "  Obtaining dependency information for sphinxcontrib-serializinghtml>=1.1.5 from https://files.pythonhosted.org/packages/dc/85/ea34b6be0494eff8ae281107bb4a83f6c83066b358f2525a251dc852817c/sphinxcontrib_serializinghtml-1.1.8-py3-none-any.whl.metadata\n",
      "  Using cached sphinxcontrib_serializinghtml-1.1.8-py3-none-any.whl.metadata (2.3 kB)\n",
      "  Obtaining dependency information for sphinxcontrib-serializinghtml>=1.1.5 from https://files.pythonhosted.org/packages/36/c6/0d5b3f258fdb107558163e88607eb6c245d8785fbd707e027f2da7fbc795/sphinxcontrib_serializinghtml-1.1.7-py3-none-any.whl.metadata\n",
      "  Using cached sphinxcontrib_serializinghtml-1.1.7-py3-none-any.whl.metadata (2.3 kB)\n",
      "  Obtaining dependency information for sphinxcontrib-serializinghtml>=1.1.5 from https://files.pythonhosted.org/packages/82/a2/962548d13ceddff95eac7843c9ff37b451c02b69429007b93d6a10a353d3/sphinxcontrib_serializinghtml-1.1.6-py3-none-any.whl.metadata\n",
      "  Using cached sphinxcontrib_serializinghtml-1.1.6-py3-none-any.whl.metadata (2.3 kB)\n",
      "  Using cached sphinxcontrib_serializinghtml-1.1.5-py2.py3-none-any.whl (94 kB)\n",
      "Collecting pyconify>=0.1.4 (from superqt>=0.4.1->napari[all]->-r ../addition_requirements.txt (line 3))\n",
      "  Obtaining dependency information for pyconify>=0.1.4 from https://files.pythonhosted.org/packages/34/fc/be68d2acc43d22dbfe6d52d573dc83da14e4fd45821acaf42992e8803682/pyconify-0.1.6-py3-none-any.whl.metadata\n",
      "  Using cached pyconify-0.1.6-py3-none-any.whl.metadata (5.5 kB)\n",
      "Collecting markdown-it-py>=2.2.0 (from rich->npe2>=0.5.2->napari[all]->-r ../addition_requirements.txt (line 3))\n",
      "  Obtaining dependency information for markdown-it-py>=2.2.0 from https://files.pythonhosted.org/packages/42/d7/1ec15b46af6af88f19b8e5ffea08fa375d433c998b8a7639e76935c14f1f/markdown_it_py-3.0.0-py3-none-any.whl.metadata\n",
      "  Using cached markdown_it_py-3.0.0-py3-none-any.whl.metadata (6.9 kB)\n",
      "INFO: pip is looking at multiple versions of sphinxcontrib-applehelp to determine which version is compatible with other requirements. This could take a while.\n",
      "Collecting sphinxcontrib-applehelp (from sphinx<5,>=4.3.0->napari[all]->-r ../addition_requirements.txt (line 3))\n",
      "  Obtaining dependency information for sphinxcontrib-applehelp from https://files.pythonhosted.org/packages/b1/db/2c9a62f9d7c8abf45fa79d28a9d0c80e16cb42deac58a699cbd952efda1a/sphinxcontrib_applehelp-1.0.6-py3-none-any.whl.metadata\n",
      "  Using cached sphinxcontrib_applehelp-1.0.6-py3-none-any.whl.metadata (2.2 kB)\n",
      "  Obtaining dependency information for sphinxcontrib-applehelp from https://files.pythonhosted.org/packages/57/57/1cdaff9321329139ffb0616b9907f2ddf46fa9a6a9488a93f049b2325472/sphinxcontrib_applehelp-1.0.5-py3-none-any.whl.metadata\n",
      "  Using cached sphinxcontrib_applehelp-1.0.5-py3-none-any.whl.metadata (2.2 kB)\n",
      "  Using cached sphinxcontrib_applehelp-1.0.4-py3-none-any.whl (120 kB)\n",
      "INFO: pip is looking at multiple versions of sphinxcontrib-devhelp to determine which version is compatible with other requirements. This could take a while.\n",
      "Collecting sphinxcontrib-devhelp (from sphinx<5,>=4.3.0->napari[all]->-r ../addition_requirements.txt (line 3))\n",
      "  Obtaining dependency information for sphinxcontrib-devhelp from https://files.pythonhosted.org/packages/5d/b6/7f58acb86c93e54236ca8b5b79dd3873138397060a74a143b1c1e30ba6bf/sphinxcontrib_devhelp-1.0.4-py3-none-any.whl.metadata\n",
      "  Using cached sphinxcontrib_devhelp-1.0.4-py3-none-any.whl.metadata (2.2 kB)\n",
      "  Obtaining dependency information for sphinxcontrib-devhelp from https://files.pythonhosted.org/packages/30/68/7e7c2e823a50cc4d0835b962425924fe7006afa2bc7151a79c30b91fcf52/sphinxcontrib_devhelp-1.0.3-py3-none-any.whl.metadata\n",
      "  Using cached sphinxcontrib_devhelp-1.0.3-py3-none-any.whl.metadata (2.2 kB)\n",
      "  Using cached sphinxcontrib_devhelp-1.0.2-py2.py3-none-any.whl (84 kB)\n",
      "INFO: pip is looking at multiple versions of sphinxcontrib-qthelp to determine which version is compatible with other requirements. This could take a while.\n",
      "Collecting sphinxcontrib-qthelp (from sphinx<5,>=4.3.0->napari[all]->-r ../addition_requirements.txt (line 3))\n",
      "  Obtaining dependency information for sphinxcontrib-qthelp from https://files.pythonhosted.org/packages/c1/54/d3f8d78634c43be776bbec969cce56cf6a6ba49fc950774179b6cc20176b/sphinxcontrib_qthelp-1.0.5-py3-none-any.whl.metadata\n",
      "  Using cached sphinxcontrib_qthelp-1.0.5-py3-none-any.whl.metadata (2.2 kB)\n",
      "  Obtaining dependency information for sphinxcontrib-qthelp from https://files.pythonhosted.org/packages/8d/57/6edeb937dbc2858d980242ffc5913303c19774048b68654e5bee9556e146/sphinxcontrib_qthelp-1.0.4-py3-none-any.whl.metadata\n",
      "  Using cached sphinxcontrib_qthelp-1.0.4-py3-none-any.whl.metadata (2.2 kB)\n",
      "  Using cached sphinxcontrib_qthelp-1.0.3-py2.py3-none-any.whl (90 kB)\n",
      "Requirement already satisfied: parso<0.9.0,>=0.8.3 in /home/perez/Documents/Sacha/delaunay_watershed_3D/.venv/lib/python3.11/site-packages (from jedi>=0.16->IPython>=7.7.0->napari-console>=0.0.6->napari[all]->-r ../addition_requirements.txt (line 3)) (0.8.3)\n",
      "Collecting mdurl~=0.1 (from markdown-it-py>=2.2.0->rich->npe2>=0.5.2->napari[all]->-r ../addition_requirements.txt (line 3))\n",
      "  Using cached mdurl-0.1.2-py3-none-any.whl (10.0 kB)\n",
      "Requirement already satisfied: ptyprocess>=0.5 in /home/perez/Documents/Sacha/delaunay_watershed_3D/.venv/lib/python3.11/site-packages (from pexpect>4.3->IPython>=7.7.0->napari-console>=0.0.6->napari[all]->-r ../addition_requirements.txt (line 3)) (0.7.0)\n",
      "Requirement already satisfied: wcwidth in /home/perez/Documents/Sacha/delaunay_watershed_3D/.venv/lib/python3.11/site-packages (from prompt-toolkit<3.1.0,>=3.0.41->IPython>=7.7.0->napari-console>=0.0.6->napari[all]->-r ../addition_requirements.txt (line 3)) (0.2.12)\n",
      "Requirement already satisfied: executing>=1.2.0 in /home/perez/Documents/Sacha/delaunay_watershed_3D/.venv/lib/python3.11/site-packages (from stack-data->IPython>=7.7.0->napari-console>=0.0.6->napari[all]->-r ../addition_requirements.txt (line 3)) (2.0.1)\n",
      "Requirement already satisfied: asttokens>=2.1.0 in /home/perez/Documents/Sacha/delaunay_watershed_3D/.venv/lib/python3.11/site-packages (from stack-data->IPython>=7.7.0->napari-console>=0.0.6->napari[all]->-r ../addition_requirements.txt (line 3)) (2.4.1)\n",
      "Requirement already satisfied: pure-eval in /home/perez/Documents/Sacha/delaunay_watershed_3D/.venv/lib/python3.11/site-packages (from stack-data->IPython>=7.7.0->napari-console>=0.0.6->napari[all]->-r ../addition_requirements.txt (line 3)) (0.2.2)\n",
      "Using cached csbdeep-0.7.4-py2.py3-none-any.whl (69 kB)\n",
      "Using cached app_model-0.2.2-py3-none-any.whl (59 kB)\n",
      "Using cached certifi-2023.11.17-py3-none-any.whl (162 kB)\n",
      "Using cached jsonschema-4.20.0-py3-none-any.whl (84 kB)\n",
      "Using cached magicgui-0.8.0-py3-none-any.whl (123 kB)\n",
      "Using cached napari_console-0.0.9-py3-none-any.whl (8.2 kB)\n",
      "Using cached napari_plugin_manager-0.1.0a2-py3-none-any.whl (25 kB)\n",
      "Using cached napari_svg-0.1.10-py3-none-any.whl (13 kB)\n",
      "Using cached npe2-0.7.3-py3-none-any.whl (93 kB)\n",
      "Using cached pandas-2.1.3-cp311-cp311-manylinux_2_17_x86_64.manylinux2014_x86_64.whl (12.2 MB)\n",
      "Using cached Pint-0.22-py3-none-any.whl (294 kB)\n",
      "Using cached psygnal-0.9.5-cp311-cp311-manylinux_2_17_x86_64.manylinux2014_x86_64.whl (614 kB)\n",
      "Using cached pydantic-1.10.13-cp311-cp311-manylinux_2_17_x86_64.manylinux2014_x86_64.whl (3.1 MB)\n",
      "Using cached PyOpenGL-3.1.7-py3-none-any.whl (2.4 MB)\n",
      "Using cached PyQt5-5.15.10-cp37-abi3-manylinux_2_17_x86_64.whl (8.2 MB)\n",
      "Using cached PyYAML-6.0.1-cp311-cp311-manylinux_2_17_x86_64.manylinux2014_x86_64.whl (757 kB)\n",
      "Using cached QtPy-2.4.1-py3-none-any.whl (93 kB)\n",
      "Using cached superqt-0.6.1-py3-none-any.whl (88 kB)\n",
      "Using cached wrapt-1.16.0-cp311-cp311-manylinux_2_5_x86_64.manylinux1_x86_64.manylinux_2_17_x86_64.manylinux2014_x86_64.whl (80 kB)\n",
      "Using cached napari-0.4.18-py3-none-any.whl (2.6 MB)\n",
      "Using cached Babel-2.13.1-py3-none-any.whl (10.1 MB)\n",
      "Using cached build-1.0.3-py3-none-any.whl (18 kB)\n",
      "Using cached click-8.1.7-py3-none-any.whl (97 kB)\n",
      "Using cached cloudpickle-3.0.0-py3-none-any.whl (20 kB)\n",
      "Using cached importlib_metadata-7.0.0-py3-none-any.whl (23 kB)\n",
      "Using cached in_n_out-0.1.9-py3-none-any.whl (19 kB)\n",
      "Using cached jsonschema_specifications-2023.11.2-py3-none-any.whl (17 kB)\n",
      "Using cached partd-1.4.1-py3-none-any.whl (18 kB)\n",
      "Using cached pooch-1.8.0-py3-none-any.whl (62 kB)\n",
      "Using cached PyQt5_sip-12.13.0-cp311-cp311-manylinux_2_5_x86_64.manylinux1_x86_64.whl (346 kB)\n",
      "Using cached pytz-2023.3.post1-py2.py3-none-any.whl (502 kB)\n",
      "Using cached qtconsole-5.5.1-py3-none-any.whl (123 kB)\n",
      "Using cached referencing-0.31.1-py3-none-any.whl (25 kB)\n",
      "Using cached requests-2.31.0-py3-none-any.whl (62 kB)\n",
      "Using cached rpds_py-0.13.2-cp311-cp311-manylinux_2_17_x86_64.manylinux2014_x86_64.whl (1.2 MB)\n",
      "Using cached dask-2023.12.0-py3-none-any.whl (1.2 MB)\n",
      "Using cached hsluv-5.0.4-py2.py3-none-any.whl (5.3 kB)\n",
      "Using cached rich-13.7.0-py3-none-any.whl (240 kB)\n",
      "Using cached charset_normalizer-3.3.2-cp311-cp311-manylinux_2_17_x86_64.manylinux2014_x86_64.whl (140 kB)\n",
      "Using cached idna-3.6-py3-none-any.whl (61 kB)\n",
      "Using cached markdown_it_py-3.0.0-py3-none-any.whl (87 kB)\n",
      "Using cached pyconify-0.1.6-py3-none-any.whl (18 kB)\n",
      "Using cached urllib3-2.1.0-py3-none-any.whl (104 kB)\n",
      "Using cached zipp-3.17.0-py3-none-any.whl (7.4 kB)\n",
      "Installing collected packages: snowballstemmer, pytz, PyQt5-Qt5, PyOpenGL, heapdict, appdirs, zipp, wrapt, urllib3, tzdata, toolz, tomli-w, sphinxcontrib-serializinghtml, sphinxcontrib-qthelp, sphinxcontrib-jsmath, sphinxcontrib-htmlhelp, sphinxcontrib-devhelp, sphinxcontrib-applehelp, rpds-py, qtpy, PyYAML, PyQt5-sip, pyproject_hooks, pydantic, pint, napari-plugin-engine, mypy-extensions, mdurl, locket, in-n-out, imagesize, idna, hsluv, freetype-py, docutils, docstring-parser, cloudpickle, click, charset-normalizer, certifi, cachey, babel, attrs, alabaster, vispy, typer, superqt, requests, referencing, PyQt5, psygnal, partd, pandas, markdown-it-py, importlib-metadata, build, sphinx, rich, pyconify, pooch, napari-svg, jsonschema-specifications, dask, csbdeep, app-model, numpydoc, npe2, jsonschema, qtconsole, napari-plugin-manager, magicgui, napari-console, napari\n",
      "Successfully installed PyOpenGL-3.1.7 PyQt5-5.15.10 PyQt5-Qt5-5.15.2 PyQt5-sip-12.13.0 PyYAML-6.0.1 alabaster-0.7.13 app-model-0.2.2 appdirs-1.4.4 attrs-23.1.0 babel-2.13.1 build-1.0.3 cachey-0.2.1 certifi-2023.11.17 charset-normalizer-3.3.2 click-8.1.7 cloudpickle-3.0.0 csbdeep-0.7.4 dask-2023.12.0 docstring-parser-0.15 docutils-0.17.1 freetype-py-2.4.0 heapdict-1.0.1 hsluv-5.0.4 idna-3.6 imagesize-1.4.1 importlib-metadata-7.0.0 in-n-out-0.1.9 jsonschema-4.20.0 jsonschema-specifications-2023.11.2 locket-1.0.0 magicgui-0.8.0 markdown-it-py-3.0.0 mdurl-0.1.2 mypy-extensions-1.0.0 napari-0.4.18 napari-console-0.0.9 napari-plugin-engine-0.2.0 napari-plugin-manager-0.1.0a2 napari-svg-0.1.10 npe2-0.7.3 numpydoc-1.5.0 pandas-2.1.3 partd-1.4.1 pint-0.22 pooch-1.8.0 psygnal-0.9.5 pyconify-0.1.6 pydantic-1.10.13 pyproject_hooks-1.0.0 pytz-2023.3.post1 qtconsole-5.5.1 qtpy-2.4.1 referencing-0.31.1 requests-2.31.0 rich-13.7.0 rpds-py-0.13.2 snowballstemmer-2.2.0 sphinx-4.5.0 sphinxcontrib-applehelp-1.0.4 sphinxcontrib-devhelp-1.0.2 sphinxcontrib-htmlhelp-2.0.1 sphinxcontrib-jsmath-1.0.1 sphinxcontrib-qthelp-1.0.3 sphinxcontrib-serializinghtml-1.1.5 superqt-0.6.1 tomli-w-1.0.0 toolz-0.12.0 typer-0.9.0 tzdata-2023.3 urllib3-2.1.0 vispy-0.12.2 wrapt-1.16.0 zipp-3.17.0\n",
      "\n",
      "\u001b[1m[\u001b[0m\u001b[34;49mnotice\u001b[0m\u001b[1;39;49m]\u001b[0m\u001b[39;49m A new release of pip is available: \u001b[0m\u001b[31;49m23.2.1\u001b[0m\u001b[39;49m -> \u001b[0m\u001b[32;49m23.3.1\u001b[0m\n",
      "\u001b[1m[\u001b[0m\u001b[34;49mnotice\u001b[0m\u001b[1;39;49m]\u001b[0m\u001b[39;49m To update, run: \u001b[0m\u001b[32;49mpip install --upgrade pip\u001b[0m\n",
      "Note: you may need to restart the kernel to use updated packages.\n"
     ]
    }
   ],
   "source": [
    "pip install -r ../addition_requirements.txt"
   ]
  },
  {
   "cell_type": "code",
   "execution_count": 7,
   "metadata": {
    "vscode": {
     "languageId": "powershell"
    }
   },
   "outputs": [],
   "source": [
    "from dw3d import geometry_reconstruction_3d\n",
    "from dw3d.mask_reconstruction import reconstruct_mask_from_dict\n"
   ]
  },
  {
   "cell_type": "code",
   "execution_count": 1,
   "metadata": {},
   "outputs": [
    {
     "name": "stdout",
     "output_type": "stream",
     "text": [
      "Mode == Skimage\n",
      "min_distance = 3\n",
      "Computing EDT ...\n",
      "EDT computed in  0.53\n",
      "Searching local extremas ...\n",
      "Number of local minimas : 4804\n",
      "Number of local maxes : 153\n",
      "Local minimas computed in  0.37\n",
      "Starting triangulation..\n",
      "Triangulation build in  0.29\n",
      "Graph build in  0.573\n"
     ]
    },
    {
     "ename": "IndexError",
     "evalue": "arrays used as indices must be of integer (or boolean) type",
     "output_type": "error",
     "traceback": [
      "\u001b[0;31m---------------------------------------------------------------------------\u001b[0m",
      "\u001b[0;31mIndexError\u001b[0m                                Traceback (most recent call last)",
      "Cell \u001b[0;32mIn[1], line 15\u001b[0m\n\u001b[1;32m     13\u001b[0m image_path \u001b[38;5;241m=\u001b[39m \u001b[38;5;124m\"\u001b[39m\u001b[38;5;124m../data/Images/1.tif\u001b[39m\u001b[38;5;124m\"\u001b[39m\n\u001b[1;32m     14\u001b[0m image \u001b[38;5;241m=\u001b[39m io\u001b[38;5;241m.\u001b[39mimread(image_path)\n\u001b[0;32m---> 15\u001b[0m DW \u001b[38;5;241m=\u001b[39m \u001b[43mGeometryReconstruction3D\u001b[49m\u001b[43m(\u001b[49m\u001b[43mimage\u001b[49m\u001b[43m,\u001b[49m\u001b[43mmin_dist\u001b[49m\u001b[43m \u001b[49m\u001b[38;5;241;43m=\u001b[39;49m\u001b[43m \u001b[49m\u001b[43mdist\u001b[49m\u001b[43m,\u001b[49m\u001b[43m \u001b[49m\u001b[43mexpansion_labels\u001b[49m\u001b[43m \u001b[49m\u001b[38;5;241;43m=\u001b[39;49m\u001b[38;5;241;43m0\u001b[39;49m\u001b[43m,\u001b[49m\u001b[43mmode\u001b[49m\u001b[38;5;241;43m=\u001b[39;49m\u001b[43mmode\u001b[49m\u001b[43m,\u001b[49m\u001b[43mprint_info\u001b[49m\u001b[38;5;241;43m=\u001b[39;49m\u001b[38;5;28;43;01mTrue\u001b[39;49;00m\u001b[43m)\u001b[49m\n\u001b[1;32m     16\u001b[0m DW\u001b[38;5;241m.\u001b[39mexport_mesh(\u001b[38;5;124m\"\u001b[39m\u001b[38;5;124mactual_2.rec\u001b[39m\u001b[38;5;124m\"\u001b[39m)\n",
      "File \u001b[0;32m~/Documents/Sacha/delaunay_watershed_3D/src/dw3d/functions.py:54\u001b[0m, in \u001b[0;36mGeometryReconstruction3D.__init__\u001b[0;34m(self, labels, min_dist, expansion_labels, original_image, print_info, mode)\u001b[0m\n\u001b[1;32m     49\u001b[0m \u001b[38;5;28mself\u001b[39m\u001b[38;5;241m.\u001b[39mbuild_graph()\n\u001b[1;32m     51\u001b[0m \u001b[38;5;66;03m# try Matthieu Perez: use centroid & labels to create Map_end instead of watershed ?\u001b[39;00m\n\u001b[1;32m     52\u001b[0m \u001b[38;5;66;03m# self.label_nodes()\u001b[39;00m\n\u001b[0;32m---> 54\u001b[0m \u001b[38;5;28;43mself\u001b[39;49m\u001b[38;5;241;43m.\u001b[39;49m\u001b[43mwatershed_seeded\u001b[49m\u001b[43m(\u001b[49m\u001b[43mprint_info\u001b[49m\u001b[38;5;241;43m=\u001b[39;49m\u001b[43mprint_info\u001b[49m\u001b[43m)\u001b[49m\n",
      "File \u001b[0;32m~/Documents/Sacha/delaunay_watershed_3D/src/dw3d/functions.py:84\u001b[0m, in \u001b[0;36mGeometryReconstruction3D.watershed_seeded\u001b[0;34m(self, print_info)\u001b[0m\n\u001b[1;32m     82\u001b[0m \u001b[38;5;28;01mdef\u001b[39;00m \u001b[38;5;21mwatershed_seeded\u001b[39m(\u001b[38;5;28mself\u001b[39m, print_info\u001b[38;5;241m=\u001b[39m\u001b[38;5;28;01mTrue\u001b[39;00m):\n\u001b[1;32m     83\u001b[0m     t1 \u001b[38;5;241m=\u001b[39m time()\n\u001b[0;32m---> 84\u001b[0m     seeds_nodes \u001b[38;5;241m=\u001b[39m \u001b[43mcompute_seeds_idx_from_voxel_coords\u001b[49m\u001b[43m(\u001b[49m\n\u001b[1;32m     85\u001b[0m \u001b[43m        \u001b[49m\u001b[38;5;28;43mself\u001b[39;49m\u001b[38;5;241;43m.\u001b[39;49m\u001b[43mEDT\u001b[49m\u001b[43m,\u001b[49m\n\u001b[1;32m     86\u001b[0m \u001b[43m        \u001b[49m\u001b[38;5;28;43mself\u001b[39;49m\u001b[38;5;241;43m.\u001b[39;49m\u001b[43mDelaunay_Graph\u001b[49m\u001b[38;5;241;43m.\u001b[39;49m\u001b[43mcompute_nodes_centroids\u001b[49m\u001b[43m(\u001b[49m\u001b[43m)\u001b[49m\u001b[43m,\u001b[49m\n\u001b[1;32m     87\u001b[0m \u001b[43m        \u001b[49m\u001b[38;5;28;43mself\u001b[39;49m\u001b[38;5;241;43m.\u001b[39;49m\u001b[43mseeds_coords\u001b[49m\u001b[43m,\u001b[49m\n\u001b[1;32m     88\u001b[0m \u001b[43m    \u001b[49m\u001b[43m)\u001b[49m\n\u001b[1;32m     89\u001b[0m     zero_nodes \u001b[38;5;241m=\u001b[39m \u001b[38;5;28mself\u001b[39m\u001b[38;5;241m.\u001b[39mDelaunay_Graph\u001b[38;5;241m.\u001b[39mcompute_zero_nodes()\n\u001b[1;32m     90\u001b[0m     \u001b[38;5;28mself\u001b[39m\u001b[38;5;241m.\u001b[39mMap_end \u001b[38;5;241m=\u001b[39m seeded_watershed_map(\u001b[38;5;28mself\u001b[39m\u001b[38;5;241m.\u001b[39mNx_Graph, seeds_nodes, \u001b[38;5;28mself\u001b[39m\u001b[38;5;241m.\u001b[39mseeds_indices, zero_nodes)\n",
      "File \u001b[0;32m~/Documents/Sacha/delaunay_watershed_3D/src/dw3d/mesh_utilities.py:300\u001b[0m, in \u001b[0;36mcompute_seeds_idx_from_voxel_coords\u001b[0;34m(EDT, Centroids, Coords)\u001b[0m\n\u001b[1;32m    297\u001b[0m Points \u001b[38;5;241m=\u001b[39m _create_coords(nx, ny, nz)\n\u001b[1;32m    299\u001b[0m Anchors \u001b[38;5;241m=\u001b[39m Coords[:, \u001b[38;5;241m0\u001b[39m] \u001b[38;5;241m*\u001b[39m ny \u001b[38;5;241m*\u001b[39m nz \u001b[38;5;241m+\u001b[39m Coords[:, \u001b[38;5;241m1\u001b[39m] \u001b[38;5;241m*\u001b[39m nz \u001b[38;5;241m+\u001b[39m Coords[:, \u001b[38;5;241m2\u001b[39m]\n\u001b[0;32m--> 300\u001b[0m p \u001b[38;5;241m=\u001b[39m \u001b[43mPoints\u001b[49m\u001b[43m[\u001b[49m\u001b[43mAnchors\u001b[49m\u001b[43m]\u001b[49m\n\u001b[1;32m    302\u001b[0m tree \u001b[38;5;241m=\u001b[39m ckdtree\u001b[38;5;241m.\u001b[39mcKDTree(Centroids)\n\u001b[1;32m    303\u001b[0m Dist, Idx_seeds \u001b[38;5;241m=\u001b[39m tree\u001b[38;5;241m.\u001b[39mquery(p)\n",
      "\u001b[0;31mIndexError\u001b[0m: arrays used as indices must be of integer (or boolean) type"
     ]
    }
   ],
   "source": [
    "import skimage.io as io\n",
    "from dw3d import GeometryReconstruction3D\n",
    "from dw3d.mask_reconstruction import reconstruct_mask_from_dict\n",
    "\n",
    "\n",
    "def make_idx(n):\n",
    "    return((\"000\"+str(n))[-3:])\n",
    "\n",
    "dist = 3\n",
    "\n",
    "image_path = \"../data/Images/1.tif\"\n",
    "image = io.imread(image_path)\n",
    "DW = GeometryReconstruction3D(image,min_dist = dist, expansion_labels =0,print_info=True)\n",
    "DW.export_mesh(\"actual_2.rec\")"
   ]
  },
  {
   "cell_type": "markdown",
   "metadata": {},
   "source": [
    "## 2) Reconstruct cell segmentation masks. Visualize in napari"
   ]
  },
  {
   "cell_type": "code",
   "execution_count": 2,
   "metadata": {},
   "outputs": [
    {
     "name": "stderr",
     "output_type": "stream",
     "text": [
      "/home/perez/Documents/Sacha/delaunay_watershed_3D/.venv/lib/python3.11/site-packages/napari/layers/utils/color_transformations.py:53: UserWarning: The provided colors parameter has 2 entries, while the data contains 3 entries. Setting colors to white.\n",
      "  warnings.warn(\n"
     ]
    }
   ],
   "source": [
    "# must install Napari first (and polyscope if polyscope function is used)\n",
    "# from dw3d.viewing import plot_cells_polyscope\n",
    "#plot_cells_polyscope(DW)\n",
    "from dw3d.viewing import plot_in_napari\n",
    "v = plot_in_napari(DW, add_mesh=True)"
   ]
  },
  {
   "cell_type": "code",
   "execution_count": 5,
   "metadata": {},
   "outputs": [
    {
     "data": {
      "text/plain": [
       "(array([[  0.,   0.,   0.],\n",
       "        [  0.,   0., 156.],\n",
       "        [  0., 199.,   0.],\n",
       "        ...,\n",
       "        [142., 120.,  82.],\n",
       "        [142., 122.,  75.],\n",
       "        [143., 118.,  78.]]),\n",
       " array([[ 101,  102,  107,    0,    1],\n",
       "        [ 101,  111,  102,    0,    1],\n",
       "        [ 101,  104,  106,    0,    1],\n",
       "        ...,\n",
       "        [2710, 2715, 2712,    0,    1],\n",
       "        [2711, 2713, 2715,    0,    1],\n",
       "        [2712, 2715, 2714,    0,    1]]))"
      ]
     },
     "execution_count": 5,
     "metadata": {},
     "output_type": "execute_result"
    }
   ],
   "source": [
    "DW.return_mesh()"
   ]
  },
  {
   "cell_type": "code",
   "execution_count": null,
   "metadata": {},
   "outputs": [],
   "source": [
    "DW.export_mesh(\"actual_2.rec\")"
   ]
  },
  {
   "cell_type": "code",
   "execution_count": 6,
   "metadata": {},
   "outputs": [],
   "source": [
    "DW.export_segmentation(\"Dict_mask.npy\")"
   ]
  },
  {
   "cell_type": "code",
   "execution_count": 7,
   "metadata": {},
   "outputs": [],
   "source": [
    "labels = reconstruct_mask_from_dict(\"Dict_mask.npy\")"
   ]
  },
  {
   "cell_type": "code",
   "execution_count": 8,
   "metadata": {},
   "outputs": [
    {
     "data": {
      "text/plain": [
       "<Image layer 'Image' at 0x7efbe488f250>"
      ]
     },
     "execution_count": 8,
     "metadata": {},
     "output_type": "execute_result"
    }
   ],
   "source": [
    "import napari\n",
    "\n",
    "v = napari.view_image(labels)\n",
    "v.add_image(DW.labels)"
   ]
  },
  {
   "cell_type": "markdown",
   "metadata": {},
   "source": [
    "## 3) Compare files sizes: mesh VS masks "
   ]
  },
  {
   "cell_type": "code",
   "execution_count": 9,
   "metadata": {},
   "outputs": [
    {
     "name": "stdout",
     "output_type": "stream",
     "text": [
      "Size of Delaunay-Watershed data: 274400 bytes\n",
      "Size of the labels: 39438400 bytes\n",
      "Relative size: 0.006957685910178912\n"
     ]
    }
   ],
   "source": [
    "import numpy as np\n",
    "\n",
    "D = np.load(\"Dict_mask.npy\",allow_pickle=True).item()\n",
    "Dict_memory_footprint = D[\"Verts\"].nbytes + D[\"Faces\"].nbytes + D[\"seeds\"].nbytes + D[\"image_shape\"].nbytes\n",
    "print(\"Size of Delaunay-Watershed data:\",Dict_memory_footprint,\"bytes\")\n",
    "print(\"Size of the labels:\",labels.nbytes,\"bytes\")\n",
    "print(\"Relative size:\", Dict_memory_footprint/labels.nbytes)"
   ]
  },
  {
   "cell_type": "code",
   "execution_count": null,
   "metadata": {},
   "outputs": [],
   "source": []
  }
 ],
 "metadata": {
  "kernelspec": {
   "display_name": "Python 3 (ipykernel)",
   "language": "python",
   "name": "python3"
  },
  "language_info": {
   "codemirror_mode": {
    "name": "ipython",
    "version": 3
   },
   "file_extension": ".py",
   "mimetype": "text/x-python",
   "name": "python",
   "nbconvert_exporter": "python",
   "pygments_lexer": "ipython3",
   "version": "3.11.7"
  }
 },
 "nbformat": 4,
 "nbformat_minor": 4
}
