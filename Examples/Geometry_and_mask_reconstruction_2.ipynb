{
 "cells": [
  {
   "cell_type": "markdown",
   "metadata": {},
   "source": [
    "# Delaunay-Watershed for geometry reconstruction: cell aggregate example\n",
    "\n",
    "In this notebook:\n",
    "- We show how to construct a multimaterial mesh from segmentation masks of cells in an aggregate.\n",
    "- We show how to easily visualize the mesh."
   ]
  },
  {
   "cell_type": "markdown",
   "metadata": {},
   "source": [
    "# 0) Install Delaunay-Watershed"
   ]
  },
  {
   "cell_type": "markdown",
   "metadata": {},
   "source": [
    "We install the viewing option from Delaunay-Watershed, based on Napari and Polyscope, to visualize the mesh later."
   ]
  },
  {
   "cell_type": "code",
   "execution_count": null,
   "metadata": {
    "vscode": {
     "languageId": "powershell"
    }
   },
   "outputs": [],
   "source": [
    "pip install \"dw3d[viewing]\""
   ]
  },
  {
   "cell_type": "markdown",
   "metadata": {},
   "source": [
    "## 1) Compute multimaterial mesh with Delaunay Watershed"
   ]
  },
  {
   "cell_type": "code",
   "execution_count": null,
   "metadata": {},
   "outputs": [],
   "source": [
    "import skimage.io as io\n",
    "from dw3d import GeometryReconstruction3D\n",
    "\n",
    "dist = 3\n",
    "\n",
    "image_path = \"../data/Images/1.tif\"\n",
    "image = io.imread(image_path)\n",
    "reconstruction = GeometryReconstruction3D(image, min_dist = dist, print_info=True)\n",
    "\n",
    "# The multimaterial mesh can be saved in a .vtk or .rec format. In binary or ASCII.\n",
    "reconstruction.save_to_rec_mesh(\"actual_1.rec\", binary_mode=False)\n",
    "reconstruction.save_to_vtk_mesh(\"actual_1.vtk\", binary_mode=True)\n",
    "print(\"Mesh saved.\")"
   ]
  },
  {
   "cell_type": "code",
   "execution_count": null,
   "metadata": {},
   "outputs": [],
   "source": [
    "# The multimaterial mesh is:\n",
    "# points: an array of 3D points (geometry)\n",
    "# triangles: an array of triangles (topology)\n",
    "# labels: an array of materials on each side of a triangle.\n",
    "points, triangles, labels = reconstruction.mesh\n",
    "\n",
    "print(f\"{points=}\")\n",
    "print(f\"{triangles=}\")\n",
    "print(f\"{labels=}\")\n"
   ]
  },
  {
   "cell_type": "markdown",
   "metadata": {},
   "source": [
    "## 2) Visualize mesh with our Polyscope viewer."
   ]
  },
  {
   "cell_type": "code",
   "execution_count": 4,
   "metadata": {},
   "outputs": [],
   "source": [
    "from dw3d.viewing import plot_cells_polyscope\n",
    "\n",
    "plot_cells_polyscope(reconstruction)\n",
    "\n",
    "# sometimes, it's better to scatter cells to understand the geometry\n",
    "# plot_cells_polyscope(reconstruction, view=\"Scattered\", scattering_coeff=0.5)"
   ]
  },
  {
   "cell_type": "markdown",
   "metadata": {},
   "source": [
    "# 3) Understand the construction process with Napari"
   ]
  },
  {
   "cell_type": "code",
   "execution_count": null,
   "metadata": {},
   "outputs": [],
   "source": [
    "from dw3d.viewing import plot_in_napari\n",
    "\n",
    "v = plot_in_napari(reconstruction, add_mesh=True)"
   ]
  }
 ],
 "metadata": {
  "kernelspec": {
   "display_name": "Python 3 (ipykernel)",
   "language": "python",
   "name": "python3"
  },
  "language_info": {
   "codemirror_mode": {
    "name": "ipython",
    "version": 3
   },
   "file_extension": ".py",
   "mimetype": "text/x-python",
   "name": "python",
   "nbconvert_exporter": "python",
   "pygments_lexer": "ipython3",
   "version": "3.11.7"
  }
 },
 "nbformat": 4,
 "nbformat_minor": 4
}
