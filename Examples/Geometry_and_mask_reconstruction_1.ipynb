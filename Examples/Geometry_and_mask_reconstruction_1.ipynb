{
 "cells": [
  {
   "cell_type": "markdown",
   "metadata": {},
   "source": [
    "# Delaunay-Watershed for data compression : Nuclei Data\n",
    "\n",
    "In this notebook, we present how to compress label data in a multimaterial mesh and recompute the mask from the mesh and the seeds if necessary"
   ]
  },
  {
   "cell_type": "markdown",
   "metadata": {},
   "source": [
    "## 1) Download nuclei data from Stardist "
   ]
  },
  {
   "cell_type": "code",
   "execution_count": 1,
   "metadata": {},
   "outputs": [
    {
     "name": "stdout",
     "output_type": "stream",
     "text": [
      "Files found, nothing to download.\n"
     ]
    }
   ],
   "source": [
    "from __future__ import print_function, unicode_literals, absolute_import, division\n",
    "import numpy as np\n",
    "from glob import glob\n",
    "from tqdm import tqdm\n",
    "from csbdeep.utils import Path, download_and_extract_zip_file\n",
    "\n",
    "download_and_extract_zip_file(\n",
    "    url       = 'https://github.com/stardist/stardist/releases/download/0.3.0/demo3D.zip',\n",
    "    targetdir = '../data',\n",
    "    verbose   = 1,)\n",
    "\n",
    "\n",
    "X = sorted(glob('../data/train/images/*.tif'))\n",
    "Y = sorted(glob('../data/train/masks/*.tif'))\n",
    "assert all(Path(x).name==Path(y).name for x,y in zip(X,Y))"
   ]
  },
  {
   "cell_type": "markdown",
   "metadata": {},
   "source": [
    "## 2) Compute multimaterial mesh with Delaunay Watershed"
   ]
  },
  {
   "cell_type": "code",
   "execution_count": 2,
   "metadata": {},
   "outputs": [],
   "source": [
    "from dw3d import geometry_reconstruction_3d, reconstruct_mask_from_dict\n",
    "import skimage.io as io \n",
    "from scipy.ndimage import zoom\n",
    "\n",
    "def make_idx(n): \n",
    "    return((\"000\"+str(n))[-3:])\n",
    "\n",
    "dist = 2\n",
    "i = 2\n",
    "labels = zoom(io.imread(Y[i]), [2,1,1,],order = 0)\n",
    "image = zoom(io.imread(X[i]), [2,1,1,],order = 1)\n",
    "\n",
    "DW = geometry_reconstruction_3d(labels,min_dist = dist, expansion_labels =0,mode='torch',print_info=False,original_image = image)\n",
    "#v = DW.plot_in_napari(add_mesh=True)"
   ]
  },
  {
   "cell_type": "markdown",
   "metadata": {},
   "source": [
    "## 3) Export segmentations for reconstruction. Visualize in napari"
   ]
  },
  {
   "cell_type": "code",
   "execution_count": 3,
   "metadata": {},
   "outputs": [],
   "source": [
    "DW.export_segmentation(\"Dict_mask.npy\")"
   ]
  },
  {
   "cell_type": "code",
   "execution_count": 4,
   "metadata": {},
   "outputs": [],
   "source": [
    "labels = reconstruct_mask_from_dict(\"Dict_mask.npy\")"
   ]
  },
  {
   "cell_type": "code",
   "execution_count": 5,
   "metadata": {},
   "outputs": [
    {
     "data": {
      "text/plain": [
       "<Image layer 'Image' at 0x7fe598c76ca0>"
      ]
     },
     "execution_count": 5,
     "metadata": {},
     "output_type": "execute_result"
    }
   ],
   "source": [
    "import napari\n",
    "v = napari.view_image(labels)\n",
    "v.add_image(DW.labels)"
   ]
  },
  {
   "cell_type": "markdown",
   "metadata": {},
   "source": [
    "## 4) Print size saved : "
   ]
  },
  {
   "cell_type": "code",
   "execution_count": 6,
   "metadata": {},
   "outputs": [
    {
     "name": "stdout",
     "output_type": "stream",
     "text": [
      "Size of Delaunay-Watershed data: 963712 bytes\n",
      "Size of the labels: 8388608 bytes\n",
      "Relative size: 0.1148834228515625\n"
     ]
    }
   ],
   "source": [
    "import sys\n",
    "import numpy as np \n",
    "D = np.load(\"Dict_mask.npy\",allow_pickle=True).item()\n",
    "Dict_memory_footprint = D['Verts'].nbytes + D['Faces'].nbytes + D['seeds'].nbytes + D['image_shape'].nbytes\n",
    "print(\"Size of Delaunay-Watershed data:\",Dict_memory_footprint,\"bytes\")\n",
    "print(\"Size of the labels:\",labels.nbytes,\"bytes\")\n",
    "print(\"Relative size:\", Dict_memory_footprint/labels.nbytes)"
   ]
  },
  {
   "cell_type": "code",
   "execution_count": null,
   "metadata": {},
   "outputs": [],
   "source": []
  }
 ],
 "metadata": {
  "kernelspec": {
   "display_name": "Python 3",
   "language": "python",
   "name": "python3"
  },
  "language_info": {
   "codemirror_mode": {
    "name": "ipython",
    "version": 3
   },
   "file_extension": ".py",
   "mimetype": "text/x-python",
   "name": "python",
   "nbconvert_exporter": "python",
   "pygments_lexer": "ipython3",
   "version": "3.8.3"
  }
 },
 "nbformat": 4,
 "nbformat_minor": 4
}
