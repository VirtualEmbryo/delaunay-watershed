{
 "cells": [
  {
   "cell_type": "markdown",
   "metadata": {},
   "source": [
    "# Delaunay-Watershed for segmentation masks compression\n",
    "\n",
    "In this notebook:\n",
    "- We present how to compress segmentation masks into a multimaterial mesh. Here we apply it on nuclei segmentation.\n",
    "- We show that we can recompute the mask images from the mesh.\n",
    "\n",
    "In this example, the compressed data is 50 times smaller than the original data."
   ]
  },
  {
   "cell_type": "markdown",
   "metadata": {},
   "source": [
    "# 0) Install Delaunay-Watershed"
   ]
  },
  {
   "cell_type": "code",
   "execution_count": null,
   "metadata": {
    "vscode": {
     "languageId": "powershell"
    }
   },
   "outputs": [],
   "source": [
    "pip install \"dw3d\""
   ]
  },
  {
   "cell_type": "markdown",
   "metadata": {},
   "source": [
    "## 1) Download nuclei data from Stardist "
   ]
  },
  {
   "cell_type": "code",
   "execution_count": null,
   "metadata": {},
   "outputs": [],
   "source": [
    "from glob import glob\n",
    "\n",
    "import numpy as np\n",
    "from csbdeep.utils import Path, download_and_extract_zip_file\n",
    "\n",
    "download_and_extract_zip_file(\n",
    "    url       = \"https://github.com/stardist/stardist/releases/download/0.3.0/demo3D.zip\",\n",
    "    targetdir = \"../data\",\n",
    "    verbose   = 1)\n",
    "\n",
    "\n",
    "X = sorted(glob(\"../data/train/images/*.tif\"))\n",
    "Y = sorted(glob(\"../data/train/masks/*.tif\"))\n",
    "assert all(Path(x).name==Path(y).name for x,y in zip(X,Y, strict=False))"
   ]
  },
  {
   "cell_type": "markdown",
   "metadata": {},
   "source": [
    "## 2) Compute multimaterial mesh with Delaunay Watershed"
   ]
  },
  {
   "cell_type": "code",
   "execution_count": 2,
   "metadata": {},
   "outputs": [],
   "source": [
    "from dw3d import GeometryReconstruction3D\n",
    "from dw3d.mask_reconstruction import reconstruct_mask_from_dict"
   ]
  },
  {
   "cell_type": "code",
   "execution_count": 6,
   "metadata": {},
   "outputs": [],
   "source": [
    "import skimage.io as io\n",
    "from scipy.ndimage import zoom\n",
    "\n",
    "dist = 2\n",
    "i = 2\n",
    "segmented_image_reconstructed = zoom(io.imread(Y[i]), [2,1,1],order = 0)\n",
    "image = zoom(io.imread(X[i]), [2,1,1],order = 1)\n",
    "\n",
    "reconstruction = GeometryReconstruction3D(segmented_image_reconstructed,min_dist = dist,print_info=False,original_image = image)\n",
    "# from dw3d.viewing import plot_in_napari\n",
    "#v = plot_in_napari(DW, add_mesh=True)"
   ]
  },
  {
   "cell_type": "markdown",
   "metadata": {},
   "source": [
    "## 3) Reconstruct segmentation masks from the mesh. Visualize in napari for comparison"
   ]
  },
  {
   "cell_type": "code",
   "execution_count": 7,
   "metadata": {},
   "outputs": [],
   "source": [
    "reconstruction.export_compressed_segmentation(\"Dict_mask.npy\")"
   ]
  },
  {
   "cell_type": "code",
   "execution_count": 8,
   "metadata": {},
   "outputs": [],
   "source": [
    "segmented_image_reconstructed = reconstruct_mask_from_dict(\"Dict_mask.npy\")"
   ]
  },
  {
   "cell_type": "code",
   "execution_count": null,
   "metadata": {
    "vscode": {
     "languageId": "powershell"
    }
   },
   "outputs": [],
   "source": [
    "pip install napari[all]"
   ]
  },
  {
   "cell_type": "code",
   "execution_count": null,
   "metadata": {},
   "outputs": [],
   "source": [
    "import napari\n",
    "\n",
    "v = napari.view_image(segmented_image_reconstructed)\n",
    "v.add_image(reconstruction.segmented_image)"
   ]
  },
  {
   "cell_type": "markdown",
   "metadata": {},
   "source": [
    "## 4) Compare files size: mesh VS masks"
   ]
  },
  {
   "cell_type": "code",
   "execution_count": null,
   "metadata": {},
   "outputs": [],
   "source": [
    "\n",
    "npdict = np.load(\"Dict_mask.npy\",allow_pickle=True).item()\n",
    "dict_memory_footprint = npdict[\"Verts\"].nbytes + npdict[\"Faces\"].nbytes + npdict[\"seeds\"].nbytes + npdict[\"image_shape\"].nbytes\n",
    "print(\"Size of Delaunay-Watershed data:\",dict_memory_footprint,\"bytes\")\n",
    "print(\"Size of the original segmentation image:\",segmented_image_reconstructed.nbytes,\"bytes\")\n",
    "print(\"Relative size:\", dict_memory_footprint/segmented_image_reconstructed.nbytes)"
   ]
  }
 ],
 "metadata": {
  "kernelspec": {
   "display_name": "Python 3 (ipykernel)",
   "language": "python",
   "name": "python3"
  },
  "language_info": {
   "codemirror_mode": {
    "name": "ipython",
    "version": 3
   },
   "file_extension": ".py",
   "mimetype": "text/x-python",
   "name": "python",
   "nbconvert_exporter": "python",
   "pygments_lexer": "ipython3",
   "version": "3.11.7"
  }
 },
 "nbformat": 4,
 "nbformat_minor": 4
}
