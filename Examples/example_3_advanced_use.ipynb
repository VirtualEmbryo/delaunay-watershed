{
 "cells": [
  {
   "cell_type": "markdown",
   "metadata": {},
   "source": [
    "# Advanced use of the Delaunay-Watershed 3D package."
   ]
  },
  {
   "cell_type": "markdown",
   "metadata": {},
   "source": [
    "In this notebook:\n",
    "- We show how to build custom mesh reconstruction algorithms. You need to understand how the algorithm work to use this.\n",
    "- We show how to visualize the steps of construction of an algorithm."
   ]
  },
  {
   "cell_type": "markdown",
   "metadata": {},
   "source": [
    "# 0) Install Delaunay-Watershed"
   ]
  },
  {
   "cell_type": "markdown",
   "metadata": {},
   "source": [
    "We install the viewing option from Delaunay-Watershed, based on Napari, to visualize the construction steps later."
   ]
  },
  {
   "cell_type": "code",
   "execution_count": 1,
   "metadata": {
    "vscode": {
     "languageId": "powershell"
    }
   },
   "outputs": [
    {
     "name": "stdout",
     "output_type": "stream",
     "text": [
      "Requirement already satisfied: delaunay-watershed-3d[viewing] in /home/perez/Documents/Sacha/delaunay_watershed_3D/.venv/lib/python3.11/site-packages (0.2.9)\n",
      "Requirement already satisfied: edt>=2.2.0 in /home/perez/Documents/Sacha/delaunay_watershed_3D/.venv/lib/python3.11/site-packages (from delaunay-watershed-3d[viewing]) (2.3.1)\n",
      "Requirement already satisfied: meshio>=5.3.4 in /home/perez/Documents/Sacha/delaunay_watershed_3D/.venv/lib/python3.11/site-packages (from delaunay-watershed-3d[viewing]) (5.3.5)\n",
      "Requirement already satisfied: networkx>=2.5.1 in /home/perez/Documents/Sacha/delaunay_watershed_3D/.venv/lib/python3.11/site-packages (from delaunay-watershed-3d[viewing]) (3.2.1)\n",
      "Requirement already satisfied: numpy>=1.21.6 in /home/perez/Documents/Sacha/delaunay_watershed_3D/.venv/lib/python3.11/site-packages (from delaunay-watershed-3d[viewing]) (1.26.2)\n",
      "Requirement already satisfied: scikit-image>=0.18.3 in /home/perez/Documents/Sacha/delaunay_watershed_3D/.venv/lib/python3.11/site-packages (from delaunay-watershed-3d[viewing]) (0.22.0)\n",
      "Requirement already satisfied: scipy>=1.4.1 in /home/perez/Documents/Sacha/delaunay_watershed_3D/.venv/lib/python3.11/site-packages (from delaunay-watershed-3d[viewing]) (1.11.4)\n",
      "Requirement already satisfied: trimesh>=3.8.12 in /home/perez/Documents/Sacha/delaunay_watershed_3D/.venv/lib/python3.11/site-packages (from delaunay-watershed-3d[viewing]) (4.0.5)\n",
      "Requirement already satisfied: napari[all] in /home/perez/Documents/Sacha/delaunay_watershed_3D/.venv/lib/python3.11/site-packages (from delaunay-watershed-3d[viewing]) (0.4.18)\n",
      "Requirement already satisfied: polyscope>=1.2.0 in /home/perez/Documents/Sacha/delaunay_watershed_3D/.venv/lib/python3.11/site-packages (from delaunay-watershed-3d[viewing]) (1.3.4)\n",
      "Requirement already satisfied: matplotlib>=3.3.1 in /home/perez/Documents/Sacha/delaunay_watershed_3D/.venv/lib/python3.11/site-packages (from delaunay-watershed-3d[viewing]) (3.8.2)\n",
      "Requirement already satisfied: contourpy>=1.0.1 in /home/perez/Documents/Sacha/delaunay_watershed_3D/.venv/lib/python3.11/site-packages (from matplotlib>=3.3.1->delaunay-watershed-3d[viewing]) (1.2.0)\n",
      "Requirement already satisfied: cycler>=0.10 in /home/perez/Documents/Sacha/delaunay_watershed_3D/.venv/lib/python3.11/site-packages (from matplotlib>=3.3.1->delaunay-watershed-3d[viewing]) (0.12.1)\n",
      "Requirement already satisfied: fonttools>=4.22.0 in /home/perez/Documents/Sacha/delaunay_watershed_3D/.venv/lib/python3.11/site-packages (from matplotlib>=3.3.1->delaunay-watershed-3d[viewing]) (4.46.0)\n",
      "Requirement already satisfied: kiwisolver>=1.3.1 in /home/perez/Documents/Sacha/delaunay_watershed_3D/.venv/lib/python3.11/site-packages (from matplotlib>=3.3.1->delaunay-watershed-3d[viewing]) (1.4.5)\n",
      "Requirement already satisfied: packaging>=20.0 in /home/perez/Documents/Sacha/delaunay_watershed_3D/.venv/lib/python3.11/site-packages (from matplotlib>=3.3.1->delaunay-watershed-3d[viewing]) (23.2)\n",
      "Requirement already satisfied: pillow>=8 in /home/perez/Documents/Sacha/delaunay_watershed_3D/.venv/lib/python3.11/site-packages (from matplotlib>=3.3.1->delaunay-watershed-3d[viewing]) (10.1.0)\n",
      "Requirement already satisfied: pyparsing>=2.3.1 in /home/perez/Documents/Sacha/delaunay_watershed_3D/.venv/lib/python3.11/site-packages (from matplotlib>=3.3.1->delaunay-watershed-3d[viewing]) (3.1.1)\n",
      "Requirement already satisfied: python-dateutil>=2.7 in /home/perez/Documents/Sacha/delaunay_watershed_3D/.venv/lib/python3.11/site-packages (from matplotlib>=3.3.1->delaunay-watershed-3d[viewing]) (2.8.2)\n",
      "Requirement already satisfied: rich in /home/perez/Documents/Sacha/delaunay_watershed_3D/.venv/lib/python3.11/site-packages (from meshio>=5.3.4->delaunay-watershed-3d[viewing]) (13.7.0)\n",
      "Requirement already satisfied: imageio>=2.27 in /home/perez/Documents/Sacha/delaunay_watershed_3D/.venv/lib/python3.11/site-packages (from scikit-image>=0.18.3->delaunay-watershed-3d[viewing]) (2.33.0)\n",
      "Requirement already satisfied: tifffile>=2022.8.12 in /home/perez/Documents/Sacha/delaunay_watershed_3D/.venv/lib/python3.11/site-packages (from scikit-image>=0.18.3->delaunay-watershed-3d[viewing]) (2023.9.26)\n",
      "Requirement already satisfied: lazy_loader>=0.3 in /home/perez/Documents/Sacha/delaunay_watershed_3D/.venv/lib/python3.11/site-packages (from scikit-image>=0.18.3->delaunay-watershed-3d[viewing]) (0.3)\n",
      "Requirement already satisfied: appdirs>=1.4.4 in /home/perez/Documents/Sacha/delaunay_watershed_3D/.venv/lib/python3.11/site-packages (from napari[all]->delaunay-watershed-3d[viewing]) (1.4.4)\n",
      "Requirement already satisfied: app-model<0.3.0,>=0.1.0 in /home/perez/Documents/Sacha/delaunay_watershed_3D/.venv/lib/python3.11/site-packages (from napari[all]->delaunay-watershed-3d[viewing]) (0.2.2)\n",
      "Requirement already satisfied: cachey>=0.2.1 in /home/perez/Documents/Sacha/delaunay_watershed_3D/.venv/lib/python3.11/site-packages (from napari[all]->delaunay-watershed-3d[viewing]) (0.2.1)\n",
      "Requirement already satisfied: certifi>=2018.1.18 in /home/perez/Documents/Sacha/delaunay_watershed_3D/.venv/lib/python3.11/site-packages (from napari[all]->delaunay-watershed-3d[viewing]) (2023.11.17)\n",
      "Requirement already satisfied: dask[array]!=2.28.0,>=2.15.0 in /home/perez/Documents/Sacha/delaunay_watershed_3D/.venv/lib/python3.11/site-packages (from napari[all]->delaunay-watershed-3d[viewing]) (2023.12.0)\n",
      "Requirement already satisfied: jsonschema>=3.2.0 in /home/perez/Documents/Sacha/delaunay_watershed_3D/.venv/lib/python3.11/site-packages (from napari[all]->delaunay-watershed-3d[viewing]) (4.20.0)\n",
      "Requirement already satisfied: magicgui>=0.3.6 in /home/perez/Documents/Sacha/delaunay_watershed_3D/.venv/lib/python3.11/site-packages (from napari[all]->delaunay-watershed-3d[viewing]) (0.8.0)\n",
      "Requirement already satisfied: napari-console>=0.0.6 in /home/perez/Documents/Sacha/delaunay_watershed_3D/.venv/lib/python3.11/site-packages (from napari[all]->delaunay-watershed-3d[viewing]) (0.0.9)\n",
      "Requirement already satisfied: napari-plugin-engine>=0.1.9 in /home/perez/Documents/Sacha/delaunay_watershed_3D/.venv/lib/python3.11/site-packages (from napari[all]->delaunay-watershed-3d[viewing]) (0.2.0)\n",
      "Requirement already satisfied: napari-svg>=0.1.7 in /home/perez/Documents/Sacha/delaunay_watershed_3D/.venv/lib/python3.11/site-packages (from napari[all]->delaunay-watershed-3d[viewing]) (0.1.10)\n",
      "Requirement already satisfied: npe2>=0.5.2 in /home/perez/Documents/Sacha/delaunay_watershed_3D/.venv/lib/python3.11/site-packages (from napari[all]->delaunay-watershed-3d[viewing]) (0.7.3)\n",
      "Requirement already satisfied: numpydoc>=0.9.2 in /home/perez/Documents/Sacha/delaunay_watershed_3D/.venv/lib/python3.11/site-packages (from napari[all]->delaunay-watershed-3d[viewing]) (1.5.0)\n",
      "Requirement already satisfied: pint>=0.17 in /home/perez/Documents/Sacha/delaunay_watershed_3D/.venv/lib/python3.11/site-packages (from napari[all]->delaunay-watershed-3d[viewing]) (0.22)\n",
      "Requirement already satisfied: psutil>=5.0 in /home/perez/Documents/Sacha/delaunay_watershed_3D/.venv/lib/python3.11/site-packages (from napari[all]->delaunay-watershed-3d[viewing]) (5.9.6)\n",
      "Requirement already satisfied: psygnal>=0.3.4 in /home/perez/Documents/Sacha/delaunay_watershed_3D/.venv/lib/python3.11/site-packages (from napari[all]->delaunay-watershed-3d[viewing]) (0.9.5)\n",
      "Requirement already satisfied: pydantic<2,>=1.9.0 in /home/perez/Documents/Sacha/delaunay_watershed_3D/.venv/lib/python3.11/site-packages (from napari[all]->delaunay-watershed-3d[viewing]) (1.10.13)\n",
      "Requirement already satisfied: pygments>=2.6.0 in /home/perez/Documents/Sacha/delaunay_watershed_3D/.venv/lib/python3.11/site-packages (from napari[all]->delaunay-watershed-3d[viewing]) (2.17.2)\n",
      "Requirement already satisfied: PyOpenGL>=3.1.0 in /home/perez/Documents/Sacha/delaunay_watershed_3D/.venv/lib/python3.11/site-packages (from napari[all]->delaunay-watershed-3d[viewing]) (3.1.7)\n",
      "Requirement already satisfied: PyYAML>=5.1 in /home/perez/Documents/Sacha/delaunay_watershed_3D/.venv/lib/python3.11/site-packages (from napari[all]->delaunay-watershed-3d[viewing]) (6.0.1)\n",
      "Requirement already satisfied: qtpy>=1.10.0 in /home/perez/Documents/Sacha/delaunay_watershed_3D/.venv/lib/python3.11/site-packages (from napari[all]->delaunay-watershed-3d[viewing]) (2.4.1)\n",
      "Requirement already satisfied: sphinx<5,>=4.3.0 in /home/perez/Documents/Sacha/delaunay_watershed_3D/.venv/lib/python3.11/site-packages (from napari[all]->delaunay-watershed-3d[viewing]) (4.5.0)\n",
      "Requirement already satisfied: superqt>=0.4.1 in /home/perez/Documents/Sacha/delaunay_watershed_3D/.venv/lib/python3.11/site-packages (from napari[all]->delaunay-watershed-3d[viewing]) (0.6.1)\n",
      "Requirement already satisfied: toolz>=0.10.0 in /home/perez/Documents/Sacha/delaunay_watershed_3D/.venv/lib/python3.11/site-packages (from napari[all]->delaunay-watershed-3d[viewing]) (0.12.0)\n",
      "Requirement already satisfied: tqdm>=4.56.0 in /home/perez/Documents/Sacha/delaunay_watershed_3D/.venv/lib/python3.11/site-packages (from napari[all]->delaunay-watershed-3d[viewing]) (4.66.1)\n",
      "Requirement already satisfied: typing-extensions>=4.2.0 in /home/perez/Documents/Sacha/delaunay_watershed_3D/.venv/lib/python3.11/site-packages (from napari[all]->delaunay-watershed-3d[viewing]) (4.8.0)\n",
      "Requirement already satisfied: vispy<0.13,>=0.12.1 in /home/perez/Documents/Sacha/delaunay_watershed_3D/.venv/lib/python3.11/site-packages (from napari[all]->delaunay-watershed-3d[viewing]) (0.12.2)\n",
      "Requirement already satisfied: wrapt>=1.11.1 in /home/perez/Documents/Sacha/delaunay_watershed_3D/.venv/lib/python3.11/site-packages (from napari[all]->delaunay-watershed-3d[viewing]) (1.16.0)\n",
      "Requirement already satisfied: pandas>=1.3.0 in /home/perez/Documents/Sacha/delaunay_watershed_3D/.venv/lib/python3.11/site-packages (from napari[all]->delaunay-watershed-3d[viewing]) (2.1.3)\n",
      "Requirement already satisfied: PyQt5!=5.15.0,>=5.12.3 in /home/perez/Documents/Sacha/delaunay_watershed_3D/.venv/lib/python3.11/site-packages (from napari[all]->delaunay-watershed-3d[viewing]) (5.15.10)\n",
      "Requirement already satisfied: napari-plugin-manager<0.2.0,>=0.1.0a1 in /home/perez/Documents/Sacha/delaunay_watershed_3D/.venv/lib/python3.11/site-packages (from napari[all]->delaunay-watershed-3d[viewing]) (0.1.0a2)\n",
      "Requirement already satisfied: in-n-out>=0.1.5 in /home/perez/Documents/Sacha/delaunay_watershed_3D/.venv/lib/python3.11/site-packages (from app-model<0.3.0,>=0.1.0->napari[all]->delaunay-watershed-3d[viewing]) (0.1.9)\n",
      "Requirement already satisfied: heapdict in /home/perez/Documents/Sacha/delaunay_watershed_3D/.venv/lib/python3.11/site-packages (from cachey>=0.2.1->napari[all]->delaunay-watershed-3d[viewing]) (1.0.1)\n",
      "Requirement already satisfied: click>=8.1 in /home/perez/Documents/Sacha/delaunay_watershed_3D/.venv/lib/python3.11/site-packages (from dask[array]!=2.28.0,>=2.15.0->napari[all]->delaunay-watershed-3d[viewing]) (8.1.7)\n",
      "Requirement already satisfied: cloudpickle>=1.5.0 in /home/perez/Documents/Sacha/delaunay_watershed_3D/.venv/lib/python3.11/site-packages (from dask[array]!=2.28.0,>=2.15.0->napari[all]->delaunay-watershed-3d[viewing]) (3.0.0)\n",
      "Requirement already satisfied: fsspec>=2021.09.0 in /home/perez/Documents/Sacha/delaunay_watershed_3D/.venv/lib/python3.11/site-packages (from dask[array]!=2.28.0,>=2.15.0->napari[all]->delaunay-watershed-3d[viewing]) (2023.12.0)\n",
      "Requirement already satisfied: partd>=1.2.0 in /home/perez/Documents/Sacha/delaunay_watershed_3D/.venv/lib/python3.11/site-packages (from dask[array]!=2.28.0,>=2.15.0->napari[all]->delaunay-watershed-3d[viewing]) (1.4.1)\n",
      "Requirement already satisfied: importlib-metadata>=4.13.0 in /home/perez/Documents/Sacha/delaunay_watershed_3D/.venv/lib/python3.11/site-packages (from dask[array]!=2.28.0,>=2.15.0->napari[all]->delaunay-watershed-3d[viewing]) (7.0.0)\n",
      "Requirement already satisfied: attrs>=22.2.0 in /home/perez/Documents/Sacha/delaunay_watershed_3D/.venv/lib/python3.11/site-packages (from jsonschema>=3.2.0->napari[all]->delaunay-watershed-3d[viewing]) (23.1.0)\n",
      "Requirement already satisfied: jsonschema-specifications>=2023.03.6 in /home/perez/Documents/Sacha/delaunay_watershed_3D/.venv/lib/python3.11/site-packages (from jsonschema>=3.2.0->napari[all]->delaunay-watershed-3d[viewing]) (2023.11.2)\n",
      "Requirement already satisfied: referencing>=0.28.4 in /home/perez/Documents/Sacha/delaunay_watershed_3D/.venv/lib/python3.11/site-packages (from jsonschema>=3.2.0->napari[all]->delaunay-watershed-3d[viewing]) (0.31.1)\n",
      "Requirement already satisfied: rpds-py>=0.7.1 in /home/perez/Documents/Sacha/delaunay_watershed_3D/.venv/lib/python3.11/site-packages (from jsonschema>=3.2.0->napari[all]->delaunay-watershed-3d[viewing]) (0.13.2)\n",
      "Requirement already satisfied: docstring-parser>=0.7 in /home/perez/Documents/Sacha/delaunay_watershed_3D/.venv/lib/python3.11/site-packages (from magicgui>=0.3.6->napari[all]->delaunay-watershed-3d[viewing]) (0.15)\n",
      "Requirement already satisfied: IPython>=7.7.0 in /home/perez/Documents/Sacha/delaunay_watershed_3D/.venv/lib/python3.11/site-packages (from napari-console>=0.0.6->napari[all]->delaunay-watershed-3d[viewing]) (8.18.1)\n",
      "Requirement already satisfied: ipykernel>=5.2.0 in /home/perez/Documents/Sacha/delaunay_watershed_3D/.venv/lib/python3.11/site-packages (from napari-console>=0.0.6->napari[all]->delaunay-watershed-3d[viewing]) (6.27.1)\n",
      "Requirement already satisfied: qtconsole!=4.7.6,!=5.4.2,>=4.5.1 in /home/perez/Documents/Sacha/delaunay_watershed_3D/.venv/lib/python3.11/site-packages (from napari-console>=0.0.6->napari[all]->delaunay-watershed-3d[viewing]) (5.5.1)\n",
      "Requirement already satisfied: pip in /home/perez/Documents/Sacha/delaunay_watershed_3D/.venv/lib/python3.11/site-packages (from napari-plugin-manager<0.2.0,>=0.1.0a1->napari[all]->delaunay-watershed-3d[viewing]) (23.2.1)\n",
      "Requirement already satisfied: build>=1 in /home/perez/Documents/Sacha/delaunay_watershed_3D/.venv/lib/python3.11/site-packages (from npe2>=0.5.2->napari[all]->delaunay-watershed-3d[viewing]) (1.0.3)\n",
      "Requirement already satisfied: tomli-w in /home/perez/Documents/Sacha/delaunay_watershed_3D/.venv/lib/python3.11/site-packages (from npe2>=0.5.2->napari[all]->delaunay-watershed-3d[viewing]) (1.0.0)\n",
      "Requirement already satisfied: typer in /home/perez/Documents/Sacha/delaunay_watershed_3D/.venv/lib/python3.11/site-packages (from npe2>=0.5.2->napari[all]->delaunay-watershed-3d[viewing]) (0.9.0)\n",
      "Requirement already satisfied: Jinja2>=2.10 in /home/perez/Documents/Sacha/delaunay_watershed_3D/.venv/lib/python3.11/site-packages (from numpydoc>=0.9.2->napari[all]->delaunay-watershed-3d[viewing]) (3.1.2)\n",
      "Requirement already satisfied: pytz>=2020.1 in /home/perez/Documents/Sacha/delaunay_watershed_3D/.venv/lib/python3.11/site-packages (from pandas>=1.3.0->napari[all]->delaunay-watershed-3d[viewing]) (2023.3.post1)\n",
      "Requirement already satisfied: tzdata>=2022.1 in /home/perez/Documents/Sacha/delaunay_watershed_3D/.venv/lib/python3.11/site-packages (from pandas>=1.3.0->napari[all]->delaunay-watershed-3d[viewing]) (2023.3)\n",
      "Requirement already satisfied: mypy-extensions in /home/perez/Documents/Sacha/delaunay_watershed_3D/.venv/lib/python3.11/site-packages (from psygnal>=0.3.4->napari[all]->delaunay-watershed-3d[viewing]) (1.0.0)\n",
      "Requirement already satisfied: PyQt5-sip<13,>=12.13 in /home/perez/Documents/Sacha/delaunay_watershed_3D/.venv/lib/python3.11/site-packages (from PyQt5!=5.15.0,>=5.12.3->napari[all]->delaunay-watershed-3d[viewing]) (12.13.0)\n",
      "Requirement already satisfied: PyQt5-Qt5>=5.15.2 in /home/perez/Documents/Sacha/delaunay_watershed_3D/.venv/lib/python3.11/site-packages (from PyQt5!=5.15.0,>=5.12.3->napari[all]->delaunay-watershed-3d[viewing]) (5.15.2)\n",
      "Requirement already satisfied: six>=1.5 in /home/perez/Documents/Sacha/delaunay_watershed_3D/.venv/lib/python3.11/site-packages (from python-dateutil>=2.7->matplotlib>=3.3.1->delaunay-watershed-3d[viewing]) (1.16.0)\n",
      "Requirement already satisfied: pooch>=1.6.0 in /home/perez/Documents/Sacha/delaunay_watershed_3D/.venv/lib/python3.11/site-packages (from scikit-image>=0.18.3->delaunay-watershed-3d[viewing]) (1.8.0)\n",
      "Requirement already satisfied: sphinxcontrib-applehelp in /home/perez/Documents/Sacha/delaunay_watershed_3D/.venv/lib/python3.11/site-packages (from sphinx<5,>=4.3.0->napari[all]->delaunay-watershed-3d[viewing]) (1.0.4)\n",
      "Requirement already satisfied: sphinxcontrib-devhelp in /home/perez/Documents/Sacha/delaunay_watershed_3D/.venv/lib/python3.11/site-packages (from sphinx<5,>=4.3.0->napari[all]->delaunay-watershed-3d[viewing]) (1.0.2)\n",
      "Requirement already satisfied: sphinxcontrib-jsmath in /home/perez/Documents/Sacha/delaunay_watershed_3D/.venv/lib/python3.11/site-packages (from sphinx<5,>=4.3.0->napari[all]->delaunay-watershed-3d[viewing]) (1.0.1)\n",
      "Requirement already satisfied: sphinxcontrib-htmlhelp>=2.0.0 in /home/perez/Documents/Sacha/delaunay_watershed_3D/.venv/lib/python3.11/site-packages (from sphinx<5,>=4.3.0->napari[all]->delaunay-watershed-3d[viewing]) (2.0.1)\n",
      "Requirement already satisfied: sphinxcontrib-serializinghtml>=1.1.5 in /home/perez/Documents/Sacha/delaunay_watershed_3D/.venv/lib/python3.11/site-packages (from sphinx<5,>=4.3.0->napari[all]->delaunay-watershed-3d[viewing]) (1.1.5)\n",
      "Requirement already satisfied: sphinxcontrib-qthelp in /home/perez/Documents/Sacha/delaunay_watershed_3D/.venv/lib/python3.11/site-packages (from sphinx<5,>=4.3.0->napari[all]->delaunay-watershed-3d[viewing]) (1.0.3)\n",
      "Requirement already satisfied: docutils<0.18,>=0.14 in /home/perez/Documents/Sacha/delaunay_watershed_3D/.venv/lib/python3.11/site-packages (from sphinx<5,>=4.3.0->napari[all]->delaunay-watershed-3d[viewing]) (0.17.1)\n",
      "Requirement already satisfied: snowballstemmer>=1.1 in /home/perez/Documents/Sacha/delaunay_watershed_3D/.venv/lib/python3.11/site-packages (from sphinx<5,>=4.3.0->napari[all]->delaunay-watershed-3d[viewing]) (2.2.0)\n",
      "Requirement already satisfied: babel>=1.3 in /home/perez/Documents/Sacha/delaunay_watershed_3D/.venv/lib/python3.11/site-packages (from sphinx<5,>=4.3.0->napari[all]->delaunay-watershed-3d[viewing]) (2.13.1)\n",
      "Requirement already satisfied: alabaster<0.8,>=0.7 in /home/perez/Documents/Sacha/delaunay_watershed_3D/.venv/lib/python3.11/site-packages (from sphinx<5,>=4.3.0->napari[all]->delaunay-watershed-3d[viewing]) (0.7.13)\n",
      "Requirement already satisfied: imagesize in /home/perez/Documents/Sacha/delaunay_watershed_3D/.venv/lib/python3.11/site-packages (from sphinx<5,>=4.3.0->napari[all]->delaunay-watershed-3d[viewing]) (1.4.1)\n",
      "Requirement already satisfied: requests>=2.5.0 in /home/perez/Documents/Sacha/delaunay_watershed_3D/.venv/lib/python3.11/site-packages (from sphinx<5,>=4.3.0->napari[all]->delaunay-watershed-3d[viewing]) (2.31.0)\n",
      "Requirement already satisfied: freetype-py in /home/perez/Documents/Sacha/delaunay_watershed_3D/.venv/lib/python3.11/site-packages (from vispy<0.13,>=0.12.1->napari[all]->delaunay-watershed-3d[viewing]) (2.4.0)\n",
      "Requirement already satisfied: hsluv in /home/perez/Documents/Sacha/delaunay_watershed_3D/.venv/lib/python3.11/site-packages (from vispy<0.13,>=0.12.1->napari[all]->delaunay-watershed-3d[viewing]) (5.0.4)\n",
      "Requirement already satisfied: markdown-it-py>=2.2.0 in /home/perez/Documents/Sacha/delaunay_watershed_3D/.venv/lib/python3.11/site-packages (from rich->meshio>=5.3.4->delaunay-watershed-3d[viewing]) (3.0.0)\n",
      "Requirement already satisfied: pyproject_hooks in /home/perez/Documents/Sacha/delaunay_watershed_3D/.venv/lib/python3.11/site-packages (from build>=1->npe2>=0.5.2->napari[all]->delaunay-watershed-3d[viewing]) (1.0.0)\n",
      "Requirement already satisfied: zipp>=0.5 in /home/perez/Documents/Sacha/delaunay_watershed_3D/.venv/lib/python3.11/site-packages (from importlib-metadata>=4.13.0->dask[array]!=2.28.0,>=2.15.0->napari[all]->delaunay-watershed-3d[viewing]) (3.17.0)\n",
      "Requirement already satisfied: comm>=0.1.1 in /home/perez/Documents/Sacha/delaunay_watershed_3D/.venv/lib/python3.11/site-packages (from ipykernel>=5.2.0->napari-console>=0.0.6->napari[all]->delaunay-watershed-3d[viewing]) (0.2.0)\n",
      "Requirement already satisfied: debugpy>=1.6.5 in /home/perez/Documents/Sacha/delaunay_watershed_3D/.venv/lib/python3.11/site-packages (from ipykernel>=5.2.0->napari-console>=0.0.6->napari[all]->delaunay-watershed-3d[viewing]) (1.8.0)\n",
      "Requirement already satisfied: jupyter-client>=6.1.12 in /home/perez/Documents/Sacha/delaunay_watershed_3D/.venv/lib/python3.11/site-packages (from ipykernel>=5.2.0->napari-console>=0.0.6->napari[all]->delaunay-watershed-3d[viewing]) (8.6.0)\n",
      "Requirement already satisfied: jupyter-core!=5.0.*,>=4.12 in /home/perez/Documents/Sacha/delaunay_watershed_3D/.venv/lib/python3.11/site-packages (from ipykernel>=5.2.0->napari-console>=0.0.6->napari[all]->delaunay-watershed-3d[viewing]) (5.5.0)\n",
      "Requirement already satisfied: matplotlib-inline>=0.1 in /home/perez/Documents/Sacha/delaunay_watershed_3D/.venv/lib/python3.11/site-packages (from ipykernel>=5.2.0->napari-console>=0.0.6->napari[all]->delaunay-watershed-3d[viewing]) (0.1.6)\n",
      "Requirement already satisfied: nest-asyncio in /home/perez/Documents/Sacha/delaunay_watershed_3D/.venv/lib/python3.11/site-packages (from ipykernel>=5.2.0->napari-console>=0.0.6->napari[all]->delaunay-watershed-3d[viewing]) (1.5.8)\n",
      "Requirement already satisfied: pyzmq>=20 in /home/perez/Documents/Sacha/delaunay_watershed_3D/.venv/lib/python3.11/site-packages (from ipykernel>=5.2.0->napari-console>=0.0.6->napari[all]->delaunay-watershed-3d[viewing]) (25.1.2)\n",
      "Requirement already satisfied: tornado>=6.1 in /home/perez/Documents/Sacha/delaunay_watershed_3D/.venv/lib/python3.11/site-packages (from ipykernel>=5.2.0->napari-console>=0.0.6->napari[all]->delaunay-watershed-3d[viewing]) (6.4)\n",
      "Requirement already satisfied: traitlets>=5.4.0 in /home/perez/Documents/Sacha/delaunay_watershed_3D/.venv/lib/python3.11/site-packages (from ipykernel>=5.2.0->napari-console>=0.0.6->napari[all]->delaunay-watershed-3d[viewing]) (5.14.0)\n",
      "Requirement already satisfied: decorator in /home/perez/Documents/Sacha/delaunay_watershed_3D/.venv/lib/python3.11/site-packages (from IPython>=7.7.0->napari-console>=0.0.6->napari[all]->delaunay-watershed-3d[viewing]) (5.1.1)\n",
      "Requirement already satisfied: jedi>=0.16 in /home/perez/Documents/Sacha/delaunay_watershed_3D/.venv/lib/python3.11/site-packages (from IPython>=7.7.0->napari-console>=0.0.6->napari[all]->delaunay-watershed-3d[viewing]) (0.19.1)\n",
      "Requirement already satisfied: prompt-toolkit<3.1.0,>=3.0.41 in /home/perez/Documents/Sacha/delaunay_watershed_3D/.venv/lib/python3.11/site-packages (from IPython>=7.7.0->napari-console>=0.0.6->napari[all]->delaunay-watershed-3d[viewing]) (3.0.41)\n",
      "Requirement already satisfied: stack-data in /home/perez/Documents/Sacha/delaunay_watershed_3D/.venv/lib/python3.11/site-packages (from IPython>=7.7.0->napari-console>=0.0.6->napari[all]->delaunay-watershed-3d[viewing]) (0.6.3)\n",
      "Requirement already satisfied: pexpect>4.3 in /home/perez/Documents/Sacha/delaunay_watershed_3D/.venv/lib/python3.11/site-packages (from IPython>=7.7.0->napari-console>=0.0.6->napari[all]->delaunay-watershed-3d[viewing]) (4.9.0)\n",
      "Requirement already satisfied: MarkupSafe>=2.0 in /home/perez/Documents/Sacha/delaunay_watershed_3D/.venv/lib/python3.11/site-packages (from Jinja2>=2.10->numpydoc>=0.9.2->napari[all]->delaunay-watershed-3d[viewing]) (2.1.3)\n",
      "Requirement already satisfied: mdurl~=0.1 in /home/perez/Documents/Sacha/delaunay_watershed_3D/.venv/lib/python3.11/site-packages (from markdown-it-py>=2.2.0->rich->meshio>=5.3.4->delaunay-watershed-3d[viewing]) (0.1.2)\n",
      "Requirement already satisfied: locket in /home/perez/Documents/Sacha/delaunay_watershed_3D/.venv/lib/python3.11/site-packages (from partd>=1.2.0->dask[array]!=2.28.0,>=2.15.0->napari[all]->delaunay-watershed-3d[viewing]) (1.0.0)\n",
      "Requirement already satisfied: platformdirs>=2.5.0 in /home/perez/Documents/Sacha/delaunay_watershed_3D/.venv/lib/python3.11/site-packages (from pooch>=1.6.0->scikit-image>=0.18.3->delaunay-watershed-3d[viewing]) (4.1.0)\n",
      "Requirement already satisfied: charset-normalizer<4,>=2 in /home/perez/Documents/Sacha/delaunay_watershed_3D/.venv/lib/python3.11/site-packages (from requests>=2.5.0->sphinx<5,>=4.3.0->napari[all]->delaunay-watershed-3d[viewing]) (3.3.2)\n",
      "Requirement already satisfied: idna<4,>=2.5 in /home/perez/Documents/Sacha/delaunay_watershed_3D/.venv/lib/python3.11/site-packages (from requests>=2.5.0->sphinx<5,>=4.3.0->napari[all]->delaunay-watershed-3d[viewing]) (3.6)\n",
      "Requirement already satisfied: urllib3<3,>=1.21.1 in /home/perez/Documents/Sacha/delaunay_watershed_3D/.venv/lib/python3.11/site-packages (from requests>=2.5.0->sphinx<5,>=4.3.0->napari[all]->delaunay-watershed-3d[viewing]) (2.1.0)\n",
      "Requirement already satisfied: pyconify>=0.1.4 in /home/perez/Documents/Sacha/delaunay_watershed_3D/.venv/lib/python3.11/site-packages (from superqt>=0.4.1->napari[all]->delaunay-watershed-3d[viewing]) (0.1.6)\n",
      "Requirement already satisfied: parso<0.9.0,>=0.8.3 in /home/perez/Documents/Sacha/delaunay_watershed_3D/.venv/lib/python3.11/site-packages (from jedi>=0.16->IPython>=7.7.0->napari-console>=0.0.6->napari[all]->delaunay-watershed-3d[viewing]) (0.8.3)\n",
      "Requirement already satisfied: ptyprocess>=0.5 in /home/perez/Documents/Sacha/delaunay_watershed_3D/.venv/lib/python3.11/site-packages (from pexpect>4.3->IPython>=7.7.0->napari-console>=0.0.6->napari[all]->delaunay-watershed-3d[viewing]) (0.7.0)\n",
      "Requirement already satisfied: wcwidth in /home/perez/Documents/Sacha/delaunay_watershed_3D/.venv/lib/python3.11/site-packages (from prompt-toolkit<3.1.0,>=3.0.41->IPython>=7.7.0->napari-console>=0.0.6->napari[all]->delaunay-watershed-3d[viewing]) (0.2.12)\n",
      "Requirement already satisfied: executing>=1.2.0 in /home/perez/Documents/Sacha/delaunay_watershed_3D/.venv/lib/python3.11/site-packages (from stack-data->IPython>=7.7.0->napari-console>=0.0.6->napari[all]->delaunay-watershed-3d[viewing]) (2.0.1)\n",
      "Requirement already satisfied: asttokens>=2.1.0 in /home/perez/Documents/Sacha/delaunay_watershed_3D/.venv/lib/python3.11/site-packages (from stack-data->IPython>=7.7.0->napari-console>=0.0.6->napari[all]->delaunay-watershed-3d[viewing]) (2.4.1)\n",
      "Requirement already satisfied: pure-eval in /home/perez/Documents/Sacha/delaunay_watershed_3D/.venv/lib/python3.11/site-packages (from stack-data->IPython>=7.7.0->napari-console>=0.0.6->napari[all]->delaunay-watershed-3d[viewing]) (0.2.2)\n",
      "\n",
      "\u001b[1m[\u001b[0m\u001b[34;49mnotice\u001b[0m\u001b[1;39;49m]\u001b[0m\u001b[39;49m A new release of pip is available: \u001b[0m\u001b[31;49m23.2.1\u001b[0m\u001b[39;49m -> \u001b[0m\u001b[32;49m24.0\u001b[0m\n",
      "\u001b[1m[\u001b[0m\u001b[34;49mnotice\u001b[0m\u001b[1;39;49m]\u001b[0m\u001b[39;49m To update, run: \u001b[0m\u001b[32;49mpip install --upgrade pip\u001b[0m\n",
      "Note: you may need to restart the kernel to use updated packages.\n"
     ]
    }
   ],
   "source": [
    "pip install \"delaunay-watershed-3d[viewing]\""
   ]
  },
  {
   "cell_type": "markdown",
   "metadata": {},
   "source": [
    "# 1) Custom Mesh Reconstruction Algorithms"
   ]
  },
  {
   "cell_type": "markdown",
   "metadata": {},
   "source": [
    "Sometimes, we provide some variations in the substeps of the current mesh reconstruction algorithm. These substeps can be selected via a Mesh Reconstruction Algorithm Factory:"
   ]
  },
  {
   "cell_type": "code",
   "execution_count": 2,
   "metadata": {},
   "outputs": [],
   "source": [
    "from dw3d import MeshReconstructionAlgorithmFactory\n",
    "\n",
    "# The default algorithm can be obtained with a static method:\n",
    "default = MeshReconstructionAlgorithmFactory.get_default_algorithm(min_distance=5, print_info=False)\n",
    "\n",
    "\n",
    "# Other algorithms can be constructed with a factory object:\n",
    "factory = MeshReconstructionAlgorithmFactory()\n",
    "# The default algorithm can be recreated from this factory, as it is not modified:\n",
    "default2 = factory.make_algorithm()\n",
    "\n",
    "# But you can customize some steps.\n",
    "# For example, there is a step where we find points on an image, and the min_distance argument\n",
    "# is important for this step. It can be customized:\n",
    "factory.set_peak_local_points_placement_method(min_distance=3)\n",
    "custom_algorithm = factory.make_algorithm()\n",
    "# Now the custom algorithm makes meshes with more points than the default algorithm.\n",
    "\n",
    "# For the next algorithm, we change the method for score computation:\n",
    "factory.set_score_computation_by_max_value()\n",
    "custom_algorithm2 = factory.make_algorithm()\n",
    "\n",
    "\n",
    "# An algorithm can be created very quickly by chaining operations:\n",
    "custom_algorithm3 = (\n",
    "    MeshReconstructionAlgorithmFactory(print_info=True, perform_mesh_postprocess_surgery=True)\n",
    "    .set_classical_edt_method()\n",
    "    .set_peak_local_points_placement_method(min_distance=4)\n",
    "    .set_delaunay_tesselation_method()\n",
    "    .set_score_computation_by_mean_value()\n",
    "    .make_algorithm()\n",
    ")"
   ]
  },
  {
   "cell_type": "markdown",
   "metadata": {},
   "source": [
    " All the algorithm use the same API than the default algorithm. For example:"
   ]
  },
  {
   "cell_type": "code",
   "execution_count": 3,
   "metadata": {},
   "outputs": [
    {
     "name": "stdout",
     "output_type": "stream",
     "text": [
      "Computing EDT ...\n",
      "EDT computed in  0.51\n",
      "Searching local extremas ...\n",
      "Number of local minimas : 2940\n",
      "Number of local maxes : 84\n",
      "Delaunay Tesselation built in 0.11 seconds\n",
      "Graph build in  0.322\n",
      "Watershed done in 0.23 seconds.\n"
     ]
    }
   ],
   "source": [
    "import skimage.io as io\n",
    "image_path = \"../data/Images/1.tif\"\n",
    "image = io.imread(image_path)\n",
    "points, triangles, labels =  custom_algorithm3.construct_mesh_from_segmentation_mask(image)"
   ]
  },
  {
   "cell_type": "markdown",
   "metadata": {},
   "source": [
    "# 2) Visualize the construction process with Napari"
   ]
  },
  {
   "cell_type": "markdown",
   "metadata": {},
   "source": [
    "As we give the algorithm to the viewing function, we have access to the steps of the construction process and we can visualize them:"
   ]
  },
  {
   "cell_type": "code",
   "execution_count": 4,
   "metadata": {},
   "outputs": [
    {
     "name": "stderr",
     "output_type": "stream",
     "text": [
      "/home/perez/Documents/Sacha/delaunay_watershed_3D/.venv/lib/python3.11/site-packages/napari/layers/utils/interaction_box.py:53: RuntimeWarning: overflow encountered in scalar subtract\n",
      "  box_height = vertices[0, 1] - vertices[1, 1]\n"
     ]
    }
   ],
   "source": [
    "from dw3d.viewing import plot_in_napari\n",
    "\n",
    "# Be sure you computed a mesh first with the algorithm of course !\n",
    "# The last mest computed is shown.\n",
    "v = plot_in_napari(custom_algorithm3, add_mesh=True, original_image=None)  # you can also see original image (not the mask) here"
   ]
  }
 ],
 "metadata": {
  "kernelspec": {
   "display_name": ".venv",
   "language": "python",
   "name": "python3"
  },
  "language_info": {
   "codemirror_mode": {
    "name": "ipython",
    "version": 3
   },
   "file_extension": ".py",
   "mimetype": "text/x-python",
   "name": "python",
   "nbconvert_exporter": "python",
   "pygments_lexer": "ipython3",
   "version": "3.11.7"
  }
 },
 "nbformat": 4,
 "nbformat_minor": 2
}
