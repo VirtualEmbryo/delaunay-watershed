{
 "cells": [
  {
   "cell_type": "markdown",
   "metadata": {},
   "source": [
    "# Delaunay-Watershed for geometry reconstruction: cell aggregate example\n",
    "\n",
    "In this notebook:\n",
    "- We show how to construct a multimaterial mesh from segmentation masks of cells in an aggregate.\n",
    "- We show how to easily visualize the mesh."
   ]
  },
  {
   "cell_type": "markdown",
   "metadata": {},
   "source": [
    "# 0) Install Delaunay-Watershed"
   ]
  },
  {
   "cell_type": "markdown",
   "metadata": {},
   "source": [
    "We install the viewing option from Delaunay-Watershed, based on Napari and Polyscope, to visualize the mesh later."
   ]
  },
  {
   "cell_type": "code",
   "execution_count": null,
   "metadata": {
    "vscode": {
     "languageId": "powershell"
    }
   },
   "outputs": [],
   "source": [
    "pip install \"delaunay-watershed-3d[viewing]\""
   ]
  },
  {
   "cell_type": "markdown",
   "metadata": {},
   "source": [
    "## 1) Compute multimaterial mesh with Delaunay Watershed"
   ]
  },
  {
   "cell_type": "markdown",
   "metadata": {},
   "source": [
    "A mesh is created via a reconstruction object. The creation of this object makes all necessary computations and the mesh can be used just after that:"
   ]
  },
  {
   "cell_type": "code",
   "execution_count": null,
   "metadata": {},
   "outputs": [],
   "source": [
    "import skimage.io as io\n",
    "from dw3d import GeometryReconstruction3D\n",
    "\n",
    "dist = 3\n",
    "\n",
    "image_path = \"../data/Images/1.tif\"\n",
    "image = io.imread(image_path)\n",
    "reconstruction = GeometryReconstruction3D(image, min_dist = dist, print_info=True)"
   ]
  },
  {
   "cell_type": "markdown",
   "metadata": {},
   "source": [
    "Now the mesh is available, through the program for example:"
   ]
  },
  {
   "cell_type": "code",
   "execution_count": null,
   "metadata": {},
   "outputs": [],
   "source": [
    "# The multimaterial mesh is:\n",
    "# points: an array of 3D points (geometry)\n",
    "# triangles: an array of triangles (topology)\n",
    "# labels: an array of materials on each side of a triangle.\n",
    "points, triangles, labels = reconstruction.mesh\n",
    "\n",
    "print(f\"{points=}\")\n",
    "print(f\"{triangles=}\")\n",
    "print(f\"{labels=}\")"
   ]
  },
  {
   "cell_type": "markdown",
   "metadata": {},
   "source": [
    "By default, the mesh has the same dimension as the image in pixels. The dimensions of the mesh can be set easily to match the real sample size:"
   ]
  },
  {
   "cell_type": "code",
   "execution_count": null,
   "metadata": {},
   "outputs": [],
   "source": [
    "known_xy_size_of_pixel = 0.1  # say, in micrometers for example\n",
    "known_z_size_of_pixel = 1.5\n",
    "reconstruction.set_pixel_size(xy_pixel_size=known_xy_size_of_pixel, z_pixel_size=known_z_size_of_pixel)\n",
    "# Before, reconstruction.mesh was of size image.shape\n",
    "# Now, reconstruction.mesh as the real size of the sample, here it is between 0 and some size in micrometers.\n",
    "\n",
    "reconstruction.center_around_zero()\n",
    "# Now reconstruction.mesh is also centered around 0.\n"
   ]
  },
  {
   "cell_type": "markdown",
   "metadata": {},
   "source": [
    "Alternatively, you can set a global minimum and maximum for the size of the mesh:"
   ]
  },
  {
   "cell_type": "code",
   "execution_count": null,
   "metadata": {},
   "outputs": [],
   "source": [
    "reconstruction.set_global_min_max(global_min=-1, global_max=1)\n",
    "# Now reconstruction.mesh is between -1 and 1."
   ]
  },
  {
   "cell_type": "markdown",
   "metadata": {},
   "source": [
    "The mesh can be saved easily for future use and analysis (with foambryo for example):"
   ]
  },
  {
   "cell_type": "code",
   "execution_count": null,
   "metadata": {},
   "outputs": [],
   "source": [
    "# The multimaterial mesh can be saved in a .vtk or .rec format. In binary or ASCII.\n",
    "reconstruction.save_to_rec_mesh(\"mesh_1.rec\", binary_mode=False)\n",
    "reconstruction.save_to_vtk_mesh(\"mesh_1.vtk\", binary_mode=True)\n",
    "print(\"Mesh saved.\")"
   ]
  },
  {
   "cell_type": "markdown",
   "metadata": {},
   "source": [
    "## 2) Visualize mesh with our Polyscope viewer."
   ]
  },
  {
   "cell_type": "code",
   "execution_count": 4,
   "metadata": {},
   "outputs": [],
   "source": [
    "from dw3d.viewing import plot_cells_polyscope\n",
    "\n",
    "plot_cells_polyscope(reconstruction)\n",
    "\n",
    "# sometimes, it's better to scatter cells to understand the geometry\n",
    "# plot_cells_polyscope(reconstruction, view=\"Scattered\", scattering_coeff=0.5)"
   ]
  },
  {
   "cell_type": "markdown",
   "metadata": {},
   "source": [
    "# 3) Understand the construction process with Napari"
   ]
  },
  {
   "cell_type": "code",
   "execution_count": null,
   "metadata": {},
   "outputs": [],
   "source": [
    "from dw3d.viewing import plot_in_napari\n",
    "\n",
    "v = plot_in_napari(reconstruction, add_mesh=True)"
   ]
  }
 ],
 "metadata": {
  "kernelspec": {
   "display_name": "Python 3 (ipykernel)",
   "language": "python",
   "name": "python3"
  },
  "language_info": {
   "codemirror_mode": {
    "name": "ipython",
    "version": 3
   },
   "file_extension": ".py",
   "mimetype": "text/x-python",
   "name": "python",
   "nbconvert_exporter": "python",
   "pygments_lexer": "ipython3",
   "version": "3.11.7"
  }
 },
 "nbformat": 4,
 "nbformat_minor": 4
}
