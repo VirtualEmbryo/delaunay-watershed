{
 "cells": [
  {
   "cell_type": "markdown",
   "metadata": {},
   "source": [
    "# Delaunay-Watershed for geometry reconstruction: cell aggregate example\n",
    "\n",
    "In this notebook:\n",
    "- We show how to construct a multimaterial mesh from segmentation masks of cells in an aggregate.\n",
    "- We show how to easily visualize the mesh."
   ]
  },
  {
   "cell_type": "markdown",
   "metadata": {},
   "source": [
    "# 0) Install Delaunay-Watershed"
   ]
  },
  {
   "cell_type": "markdown",
   "metadata": {},
   "source": [
    "We install the viewing option from Delaunay-Watershed, based on Polyscope, to visualize the mesh later."
   ]
  },
  {
   "cell_type": "code",
   "execution_count": null,
   "metadata": {
    "vscode": {
     "languageId": "powershell"
    }
   },
   "outputs": [],
   "source": [
    "pip install \"delaunay-watershed-3d[viewing]\""
   ]
  },
  {
   "cell_type": "markdown",
   "metadata": {},
   "source": [
    "## 1) Compute multimaterial mesh with Delaunay Watershed"
   ]
  },
  {
   "cell_type": "markdown",
   "metadata": {},
   "source": [
    "A mesh is created via a \"Mesh Reconstruction Algorithm\". Although many variations can be created, we provide a default Mesh Reconstruction Algorithm:"
   ]
  },
  {
   "cell_type": "code",
   "execution_count": null,
   "metadata": {},
   "outputs": [],
   "source": [
    "from dw3d import get_default_mesh_reconstruction_algorithm\n",
    "\n",
    "dist = 3\n",
    "mesh_reconstruction_algorithm = get_default_mesh_reconstruction_algorithm(min_distance=dist, print_info=True)"
   ]
  },
  {
   "cell_type": "markdown",
   "metadata": {},
   "source": [
    "This algorithm is able to reconstruct a 3D Mesh from a segmentation mask."
   ]
  },
  {
   "cell_type": "code",
   "execution_count": null,
   "metadata": {},
   "outputs": [],
   "source": [
    "# Read segmentation image\n",
    "import skimage.io as io\n",
    "\n",
    "image_path = \"../data/Images/1.tif\"\n",
    "image = io.imread(image_path)\n",
    "\n",
    "# Use algorithm to create a mesh.\n",
    "points, triangles, labels = mesh_reconstruction_algorithm.construct_mesh_from_segmentation_mask(image)\n",
    "print(\"Done.\\n---\")\n",
    "\n",
    "# The multimaterial mesh is:\n",
    "# points: an array of 3D points (geometry)\n",
    "# triangles: an array of triangles (topology)\n",
    "# labels: an array of materials on each side of a triangle.\n",
    "print(f\"Created mesh has {len(points)} points and {len(triangles)} triangles.\")\n",
    "\n",
    "print(f\"{points=}\")\n",
    "print(f\"{triangles=}\")\n",
    "print(f\"{labels=}\")"
   ]
  },
  {
   "cell_type": "markdown",
   "metadata": {},
   "source": [
    "By default, the mesh has the same dimension as the image in pixels. The dimensions of the mesh can be set easily to match the real sample size:"
   ]
  },
  {
   "cell_type": "code",
   "execution_count": null,
   "metadata": {},
   "outputs": [],
   "source": [
    "from dw3d import center_points_around_zero, set_points_pixel_size\n",
    "\n",
    "known_xy_size_of_pixel = 0.1  # say, in micrometers for example\n",
    "known_z_size_of_pixel = 1.5  # we can take into account anisotropy in Z-direction.\n",
    "\n",
    "points = set_points_pixel_size(points, xy_pixel_size=known_xy_size_of_pixel, z_pixel_size=known_z_size_of_pixel)\n",
    "# Now, the mesh as the real size of the sample, here it is between 0 and some size in micrometers.\n",
    "# It's a simple scaling of dimensions, nothing more.\n",
    "\n",
    "print(f\"{points=}\")"
   ]
  },
  {
   "cell_type": "markdown",
   "metadata": {},
   "source": [
    "Other operations are available, such as centering the points of the mesh around zero:"
   ]
  },
  {
   "cell_type": "code",
   "execution_count": null,
   "metadata": {},
   "outputs": [],
   "source": [
    "points = center_points_around_zero(points)\n",
    "# Now the mesh is centered around 0\n",
    "print(f\"{points=}\")"
   ]
  },
  {
   "cell_type": "markdown",
   "metadata": {},
   "source": [
    "Alternatively, you can set a global minimum and maximum for the size of the mesh:"
   ]
  },
  {
   "cell_type": "code",
   "execution_count": null,
   "metadata": {},
   "outputs": [],
   "source": [
    "from dw3d import set_points_global_min_max\n",
    "\n",
    "points = set_points_global_min_max(points, global_min=-1, global_max=1)\n",
    "# Now the mesh is between -1 and 1.\n",
    "print(f\"{points=}\")"
   ]
  },
  {
   "cell_type": "markdown",
   "metadata": {},
   "source": [
    "The mesh can be saved easily for future use and analysis (with foambryo for example):"
   ]
  },
  {
   "cell_type": "code",
   "execution_count": null,
   "metadata": {},
   "outputs": [],
   "source": [
    "# The multimaterial mesh can be saved in a .vtk or .rec format. In binary or ASCII.\n",
    "from dw3d import save_mesh_to_rec_mesh, save_mesh_to_vtk_mesh\n",
    "\n",
    "save_mesh_to_rec_mesh(points, triangles, labels, \"mesh_1.rec\", binary_mode=False)\n",
    "save_mesh_to_vtk_mesh(points, triangles, labels, \"mesh_1.vtk\", binary_mode=True)\n",
    "print(\"Mesh saved.\")"
   ]
  },
  {
   "cell_type": "markdown",
   "metadata": {},
   "source": [
    "In general, the last constructed mesh is saved within the algorithm and the post-process can also be done with it:"
   ]
  },
  {
   "cell_type": "code",
   "execution_count": null,
   "metadata": {},
   "outputs": [],
   "source": [
    "# Alternatively, with last constructed mesh:\n",
    "mesh_reconstruction_algorithm.construct_mesh_from_segmentation_mask(image)\n",
    "\n",
    "mesh_reconstruction_algorithm.set_pixel_size(1, 1)\n",
    "mesh_reconstruction_algorithm.center_around_zero()\n",
    "mesh_reconstruction_algorithm.set_global_min_max(global_min=-1, global_max=1)\n",
    "\n",
    "\n",
    "mesh_reconstruction_algorithm.save_to_rec_mesh(\"mesh_1.rec\", binary_mode=False)\n",
    "mesh_reconstruction_algorithm.save_to_vtk_mesh(\"mesh_1.vtk\", binary_mode=True)\n",
    "\n",
    "# The last mesh (with post-process operations) can be obtained:\n",
    "post_processed_points, triangles, labels = mesh_reconstruction_algorithm.last_constructed_mesh"
   ]
  },
  {
   "cell_type": "markdown",
   "metadata": {},
   "source": [
    "## 2) Visualize mesh with our Polyscope viewer."
   ]
  },
  {
   "cell_type": "markdown",
   "metadata": {},
   "source": [
    "Similarly, the last mesh can be visualized, with our custom viewer:"
   ]
  },
  {
   "cell_type": "code",
   "execution_count": null,
   "metadata": {},
   "outputs": [],
   "source": [
    "from dw3d.viewing import plot_cells_polyscope\n",
    "\n",
    "plot_cells_polyscope(mesh_reconstruction_algorithm)\n",
    "\n",
    "# sometimes, it's better to scatter cells to understand the geometry\n",
    "# plot_cells_polyscope(mesh_reconstruction_algorithm, view=\"Scattered\", scattering_coeff=0.5)"
   ]
  }
 ],
 "metadata": {
  "kernelspec": {
   "display_name": "Python 3 (ipykernel)",
   "language": "python",
   "name": "python3"
  },
  "language_info": {
   "codemirror_mode": {
    "name": "ipython",
    "version": 3
   },
   "file_extension": ".py",
   "mimetype": "text/x-python",
   "name": "python",
   "nbconvert_exporter": "python",
   "pygments_lexer": "ipython3",
   "version": "3.11.7"
  }
 },
 "nbformat": 4,
 "nbformat_minor": 4
}
